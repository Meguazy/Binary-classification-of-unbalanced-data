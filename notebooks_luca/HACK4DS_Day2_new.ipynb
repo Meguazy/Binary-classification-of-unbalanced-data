{
  "nbformat": 4,
  "nbformat_minor": 0,
  "metadata": {
    "colab": {
      "provenance": [],
      "include_colab_link": true
    },
    "kernelspec": {
      "name": "python3",
      "display_name": "Python 3"
    },
    "language_info": {
      "name": "python"
    }
  },
  "cells": [
    {
      "cell_type": "markdown",
      "metadata": {
        "id": "view-in-github",
        "colab_type": "text"
      },
      "source": [
        "<a href=\"https://colab.research.google.com/github/Meguazy/HACK_4DS/blob/main/notebooks_luca/HACK4DS_Day2_new.ipynb\" target=\"_parent\"><img src=\"https://colab.research.google.com/assets/colab-badge.svg\" alt=\"Open In Colab\"/></a>"
      ]
    },
    {
      "cell_type": "code",
      "execution_count": 1,
      "metadata": {
        "id": "qmD21Xwaismg",
        "colab": {
          "base_uri": "https://localhost:8080/"
        },
        "outputId": "37ec59ba-1ff6-41a8-95e6-f25dc3b8185b"
      },
      "outputs": [
        {
          "output_type": "stream",
          "name": "stdout",
          "text": [
            "Cloning into 'HACK_4DS'...\n",
            "remote: Enumerating objects: 106, done.\u001b[K\n",
            "remote: Counting objects: 100% (106/106), done.\u001b[K\n",
            "remote: Compressing objects: 100% (92/92), done.\u001b[K\n",
            "remote: Total 106 (delta 44), reused 4 (delta 1), pack-reused 0\u001b[K\n",
            "Receiving objects: 100% (106/106), 11.92 MiB | 4.75 MiB/s, done.\n",
            "Resolving deltas: 100% (44/44), done.\n",
            "Updating files: 100% (15/15), done.\n"
          ]
        }
      ],
      "source": [
        "!git clone https://github.com/Meguazy/HACK_4DS.git"
      ]
    },
    {
      "cell_type": "code",
      "source": [
        "!git pull"
      ],
      "metadata": {
        "colab": {
          "base_uri": "https://localhost:8080/"
        },
        "id": "t3IsSBfmCDzn",
        "outputId": "4870dadf-7c52-4eda-b90e-495064c8464b"
      },
      "execution_count": 2,
      "outputs": [
        {
          "output_type": "stream",
          "name": "stdout",
          "text": [
            "fatal: not a git repository (or any of the parent directories): .git\n"
          ]
        }
      ]
    },
    {
      "cell_type": "code",
      "source": [
        "%cd /content/HACK_4DS"
      ],
      "metadata": {
        "colab": {
          "base_uri": "https://localhost:8080/"
        },
        "id": "v_R2sqZ4kkX2",
        "outputId": "b62ba3cf-f397-45a2-e2b4-f00099e93a76"
      },
      "execution_count": 3,
      "outputs": [
        {
          "output_type": "stream",
          "name": "stdout",
          "text": [
            "/content/HACK_4DS\n"
          ]
        }
      ]
    },
    {
      "cell_type": "markdown",
      "source": [
        "# Initial"
      ],
      "metadata": {
        "id": "-Ha47nwWoTsz"
      }
    },
    {
      "cell_type": "code",
      "source": [
        "!pip install lightgbm imbalanced-learn"
      ],
      "metadata": {
        "colab": {
          "base_uri": "https://localhost:8080/"
        },
        "id": "EHTpD5nQLGP3",
        "outputId": "7e513ac5-875e-42f1-9e92-39eeecee1a5f"
      },
      "execution_count": 4,
      "outputs": [
        {
          "output_type": "stream",
          "name": "stdout",
          "text": [
            "Requirement already satisfied: lightgbm in /usr/local/lib/python3.10/dist-packages (4.1.0)\n",
            "Requirement already satisfied: imbalanced-learn in /usr/local/lib/python3.10/dist-packages (0.10.1)\n",
            "Requirement already satisfied: numpy in /usr/local/lib/python3.10/dist-packages (from lightgbm) (1.25.2)\n",
            "Requirement already satisfied: scipy in /usr/local/lib/python3.10/dist-packages (from lightgbm) (1.11.4)\n",
            "Requirement already satisfied: scikit-learn>=1.0.2 in /usr/local/lib/python3.10/dist-packages (from imbalanced-learn) (1.2.2)\n",
            "Requirement already satisfied: joblib>=1.1.1 in /usr/local/lib/python3.10/dist-packages (from imbalanced-learn) (1.3.2)\n",
            "Requirement already satisfied: threadpoolctl>=2.0.0 in /usr/local/lib/python3.10/dist-packages (from imbalanced-learn) (3.3.0)\n"
          ]
        }
      ]
    },
    {
      "cell_type": "code",
      "source": [
        "import pandas as pd\n",
        "import numpy as np\n",
        "from sklearn.model_selection import train_test_split, GridSearchCV\n",
        "from sklearn.linear_model import SGDClassifier\n",
        "from sklearn.ensemble import HistGradientBoostingClassifier\n",
        "from sklearn.metrics import classification_report, f1_score\n",
        "import lightgbm as lgb\n",
        "from imblearn.under_sampling import RandomUnderSampler\n",
        "from imblearn.over_sampling import RandomOverSampler\n",
        "from sklearn.preprocessing import StandardScaler\n",
        "from sklearn.preprocessing import LabelEncoder\n",
        "import xgboost as xgb\n",
        "import matplotlib.pyplot as plt"
      ],
      "metadata": {
        "id": "_iDiHJkQkVce"
      },
      "execution_count": 5,
      "outputs": []
    },
    {
      "cell_type": "code",
      "source": [
        "df_test = pd.read_csv(\"data2/test_set.csv\", sep=\";\", quotechar=\"\\\"\", decimal=\",\")"
      ],
      "metadata": {
        "id": "rqCRCcm2kwbj"
      },
      "execution_count": 6,
      "outputs": []
    },
    {
      "cell_type": "code",
      "source": [
        "df_train = pd.read_csv(\"data2/train_set.csv\", sep=\";\", quotechar=\"\\\"\", decimal=\",\")"
      ],
      "metadata": {
        "id": "FD8F2dIckg19"
      },
      "execution_count": 7,
      "outputs": []
    },
    {
      "cell_type": "markdown",
      "source": [
        "# Preprocessing"
      ],
      "metadata": {
        "id": "tgyeiRX7epi_"
      }
    },
    {
      "cell_type": "code",
      "source": [
        "external_score_ver03_dictionary = {\n",
        "    \"MISSING\":None,\n",
        "    \"A\":14,\n",
        "    \"B\":13,\n",
        "    \"C\":12,\n",
        "    \"D\":11,\n",
        "    \"E\":10,\n",
        "    \"F\":9,\n",
        "    \"G\":8,\n",
        "    \"H\":7,\n",
        "    \"I\":6,\n",
        "    \"L\":5,\n",
        "    \"M\":4,\n",
        "    \"N\":3,\n",
        "    \"O\":2,\n",
        "    \"P\":1\n",
        "}\n",
        "\n",
        "df_train = df_train.replace({\"external_score_ver03\": external_score_ver03_dictionary})\n",
        "df_test = df_test.replace({\"external_score_ver03\": external_score_ver03_dictionary})"
      ],
      "metadata": {
        "id": "NMttmmMtUojp"
      },
      "execution_count": 8,
      "outputs": []
    },
    {
      "cell_type": "code",
      "source": [
        "# Concatenate df_train and df_test\n",
        "df_combined = pd.concat([df_train, df_test], axis=0)\n",
        "\n",
        "# List of columns to encode\n",
        "columns_to_encode = ['province', 'juridical_form', 'industry_sector', 'region', 'geo_area', 'decision_date']\n",
        "\n",
        "# Instantiate LabelEncoder\n",
        "label_encoders = {}\n",
        "\n",
        "# Encode each column iteratively\n",
        "for column in columns_to_encode:\n",
        "    # Instantiate LabelEncoder for the current column\n",
        "    label_encoders[column] = LabelEncoder()\n",
        "\n",
        "    # Fit label encoder on combined data\n",
        "    label_encoders[column].fit(df_combined[column])\n",
        "\n",
        "    # Transform both training and testing data\n",
        "    df_train[column] = label_encoders[column].transform(df_train[column])\n",
        "    df_test[column] = label_encoders[column].transform(df_test[column])"
      ],
      "metadata": {
        "id": "_NkmKUtUYcWR"
      },
      "execution_count": 9,
      "outputs": []
    },
    {
      "cell_type": "code",
      "source": [
        "class_columns = ['decision_date', 'company_ID', 'external_score_ver01',\n",
        "       'external_score_ver02', 'late_payment_score',\n",
        "       'external_score_late_payment_integrated', 'external_score_moderate',\n",
        "       'external_score_adverse', 'external_score_ver03', 'age', 'province',\n",
        "       'juridical_form', 'industry_sector', 'gross_margin_ratio',\n",
        "       'core_income_ratio', 'cash_asset_ratio',\n",
        "       'consolidated_liabilities_ratio', 'tangible_assets_ratio', 'revenues',\n",
        "       'cr_available', 'region', 'geo_area', 'last_statement_age',\n",
        "       'overrun_freq_a_revoca_autoliquidanti',\n",
        "       'avg_tension_a_revoca_autoliquidanti',\n",
        "       'std_tension_a_revoca_autoliquidanti',\n",
        "       'max_tension_a_revoca_autoliquidanti',\n",
        "       'last_tension_a_revoca_autoliquidanti',\n",
        "       'avg_rel_used_a_revoca_autoliquidanti',\n",
        "       'std_rel_used_a_revoca_autoliquidanti',\n",
        "       'max_rel_used_a_revoca_autoliquidanti',\n",
        "       'last_rel_used_a_revoca_autoliquidanti', 'overrun_freq_a_scadenza',\n",
        "       'avg_rel_used_a_scadenza', 'std_rel_used_a_scadenza',\n",
        "       'max_rel_used_a_scadenza', 'last_rel_used_a_scadenza',\n",
        "       'avg_count_enti_affidanti', 'std_count_enti_affidanti',\n",
        "       'max_count_enti_affidanti', 'last_count_enti_affidanti',\n",
        "       'avg_count_numero_prima_info', 'std_count_numero_prima_info',\n",
        "       'max_count_numero_prima_info', 'last_count_numero_prima_info']\n",
        "\n",
        "reg_columns = ['decision_date', 'company_ID', 'external_score_ver01',\n",
        "       'external_score_ver02', 'external_score_ver03', 'age', 'province',\n",
        "       'juridical_form', 'industry_sector', 'gross_margin_ratio',\n",
        "       'core_income_ratio', 'cash_asset_ratio',\n",
        "       'consolidated_liabilities_ratio', 'tangible_assets_ratio', 'revenues',\n",
        "       'cr_available', 'region', 'geo_area', 'last_statement_age',\n",
        "       'overrun_freq_a_revoca_autoliquidanti',\n",
        "       'avg_tension_a_revoca_autoliquidanti',\n",
        "       'std_tension_a_revoca_autoliquidanti',\n",
        "       'max_tension_a_revoca_autoliquidanti',\n",
        "       'last_tension_a_revoca_autoliquidanti',\n",
        "       'avg_rel_used_a_revoca_autoliquidanti',\n",
        "       'std_rel_used_a_revoca_autoliquidanti',\n",
        "       'max_rel_used_a_revoca_autoliquidanti',\n",
        "       'last_rel_used_a_revoca_autoliquidanti', 'overrun_freq_a_scadenza',\n",
        "       'avg_rel_used_a_scadenza', 'std_rel_used_a_scadenza',\n",
        "       'max_rel_used_a_scadenza', 'last_rel_used_a_scadenza',\n",
        "       'avg_count_enti_affidanti', 'std_count_enti_affidanti',\n",
        "       'max_count_enti_affidanti', 'last_count_enti_affidanti',\n",
        "       'avg_count_numero_prima_info', 'std_count_numero_prima_info',\n",
        "       'max_count_numero_prima_info', 'last_count_numero_prima_info']"
      ],
      "metadata": {
        "id": "rmHlg-SQRbsi"
      },
      "execution_count": 10,
      "outputs": []
    },
    {
      "cell_type": "code",
      "source": [
        "# Splitting the data into training and testing sets\n",
        "X_train, X_test, y_train, y_test = train_test_split(df_train, df_train[[\"days_to_default\", \"target\"]], test_size=0.2, random_state=42)"
      ],
      "metadata": {
        "id": "GQpRREx8tbr2"
      },
      "execution_count": 11,
      "outputs": []
    },
    {
      "cell_type": "markdown",
      "source": [
        "# Classificator"
      ],
      "metadata": {
        "id": "CRybM-5OMZUA"
      }
    },
    {
      "cell_type": "code",
      "source": [
        "from sklearn.metrics import f1_score\n",
        "import lightgbm as lgb\n",
        "from imblearn.over_sampling import RandomOverSampler\n",
        "from sklearn.model_selection import train_test_split\n",
        "\n",
        "train_data = lgb.Dataset(X_train[class_columns], label=y_train.target)\n",
        "\n",
        "\n",
        "# Setting up parameters for LightGBM\n",
        "params = {\n",
        "    'objective': 'binary',\n",
        "    'metric': 'binary_error',\n",
        "    'learning_rate': 0.05,\n",
        "    'random_state': 42,\n",
        "    'is_unbalance': True\n",
        "}\n",
        "\n",
        "# Training the model\n",
        "num_round = 3100\n",
        "classificator = lgb.train(params, train_data, num_round)\n",
        "\n",
        "# Making predictions\n",
        "y_pred_class = classificator.predict(X_test[class_columns], num_iteration=classificator.best_iteration)\n",
        "\n",
        "# Converting probabilities to binary predictions\n",
        "y_pred_binary = [1 if pred > 0.5 else 0 for pred in y_pred_class]\n",
        "\n",
        "# Calculating F1 score\n",
        "f1 = f1_score(y_test.target, y_pred_binary)\n",
        "print(\"F1 score: \", f1)"
      ],
      "metadata": {
        "colab": {
          "base_uri": "https://localhost:8080/"
        },
        "id": "XczGqIAlMpgA",
        "outputId": "c43454be-288f-455a-e3c5-d197f1f78490"
      },
      "execution_count": 12,
      "outputs": [
        {
          "output_type": "stream",
          "name": "stdout",
          "text": [
            "[LightGBM] [Info] Number of positive: 5545, number of negative: 20080\n",
            "[LightGBM] [Info] Auto-choosing row-wise multi-threading, the overhead of testing was 0.210510 seconds.\n",
            "You can set `force_row_wise=true` to remove the overhead.\n",
            "And if memory is not enough, you can set `force_col_wise=true`.\n",
            "[LightGBM] [Info] Total Bins 6166\n",
            "[LightGBM] [Info] Number of data points in the train set: 25625, number of used features: 45\n",
            "[LightGBM] [Info] [binary:BoostFromScore]: pavg=0.216390 -> initscore=-1.286828\n",
            "[LightGBM] [Info] Start training from score -1.286828\n",
            "F1 score:  0.5978768577494692\n"
          ]
        }
      ]
    },
    {
      "cell_type": "markdown",
      "source": [
        "# Regressor"
      ],
      "metadata": {
        "id": "fKcF-6RSMqhL"
      }
    },
    {
      "cell_type": "code",
      "source": [
        "# Splitting the data into training and testing sets\n",
        "# X_train_reg, X_test_reg, y_train_reg, y_test_reg = train_test_split(df_train, df_train.days_to_default, test_size=0.2, random_state=42)"
      ],
      "metadata": {
        "id": "XNuJetfttOoq"
      },
      "execution_count": 13,
      "outputs": []
    },
    {
      "cell_type": "code",
      "source": [
        "# Scaling the features\n",
        "# from sklearn.preprocessing import StandardScaler\n",
        "# scaler = StandardScaler()\n",
        "\n",
        "# X_train_scaled = scaler.fit_transform(X_train.loc[X_train[\"target\"] == 1][reg_columns])\n",
        "# X_test_scaled = scaler.transform(X_test.loc[X_test[\"target\"] == 1][reg_columns])\n",
        "# df_test_scaled = scaler.transform(df_test[reg_columns])\n",
        "X_train_scaled = X_train[reg_columns]\n",
        "X_test_scaled = X_test[reg_columns]\n",
        "df_test_scaled = df_test[reg_columns]"
      ],
      "metadata": {
        "id": "-Fh-SoinADIN"
      },
      "execution_count": 14,
      "outputs": []
    },
    {
      "cell_type": "code",
      "source": [
        "from sklearn.metrics import mean_absolute_error as mae\n",
        "from lightgbm import LGBMRegressor\n",
        "\n",
        "regressor = LGBMRegressor(\n",
        "    objective='regression',\n",
        "    boosting_type='gbdt',\n",
        "    num_leaves=51,\n",
        "    learning_rate=0.18,\n",
        "    n_estimators=200,\n",
        "    feature_fraction=0.88,\n",
        "    bagging_fraction=0.8,\n",
        "    num_iterations=6000,\n",
        "    bagging_freq=5,\n",
        "    verbose=-1\n",
        ")\n",
        "\n",
        "regressor.fit(X_train_scaled, y_train.days_to_default)\n",
        "\n",
        "# Make predictions on the training and validation data.\n",
        "y_train_pred_reg = regressor.predict(X_train_scaled)\n",
        "y_pred_reg = regressor.predict(X_test_scaled)\n",
        "\n",
        "# Calculate and print the Root Mean Absolute Error (MAE) for training and validation predictions.\n",
        "print(\"Training MAE: \", mae(y_train.days_to_default, y_train_pred_reg))\n",
        "print(\"Validation MAE: \", mae(y_test.days_to_default, y_pred_reg))"
      ],
      "metadata": {
        "colab": {
          "base_uri": "https://localhost:8080/"
        },
        "id": "beytlfczO1wk",
        "outputId": "7a3bd329-f1fb-45bd-d9d5-a8affa9d78ee"
      },
      "execution_count": 15,
      "outputs": [
        {
          "output_type": "stream",
          "name": "stderr",
          "text": [
            "/usr/local/lib/python3.10/dist-packages/lightgbm/engine.py:172: UserWarning: Found `num_iterations` in params. Will use it instead of argument\n",
            "  _log_warning(f\"Found `{alias}` in params. Will use it instead of argument\")\n"
          ]
        },
        {
          "output_type": "stream",
          "name": "stdout",
          "text": [
            "Training MAE:  0.2361893075122995\n",
            "Validation MAE:  244.61924728545512\n"
          ]
        }
      ]
    },
    {
      "cell_type": "markdown",
      "source": [
        "# Local Validation"
      ],
      "metadata": {
        "id": "ZxIEKsh2Pi6t"
      }
    },
    {
      "cell_type": "code",
      "source": [
        "df_local_val = X_test.copy()\n",
        "\n",
        "# Making predictions\n",
        "y_class_local = classificator.predict(df_local_val[class_columns], num_iteration=classificator.best_iteration)\n",
        "\n",
        "# Converting probabilities to binary predictions\n",
        "y_class_local_binary = [1 if pred > 0.5 else 0 for pred in y_class_local]\n",
        "\n",
        "df_local_val['default_prediction'] = y_class_local_binary"
      ],
      "metadata": {
        "id": "q4bluHe2Pkzn"
      },
      "execution_count": 20,
      "outputs": []
    },
    {
      "cell_type": "code",
      "source": [
        "df_local_val['reg_prediction'] = df_local_val.apply(lambda row: regressor.predict([row[reg_columns].values])[0] if row['default_prediction'] == 1 else 1498, axis=1)"
      ],
      "metadata": {
        "id": "_ZAjLq5XX7WB"
      },
      "execution_count": 21,
      "outputs": []
    },
    {
      "cell_type": "code",
      "source": [
        "df_local_val"
      ],
      "metadata": {
        "id": "H6SRGXupYfO_",
        "colab": {
          "base_uri": "https://localhost:8080/",
          "height": 444
        },
        "outputId": "ce16f3d7-8705-43b6-fa9c-8db93d94b85d"
      },
      "execution_count": 22,
      "outputs": [
        {
          "output_type": "execute_result",
          "data": {
            "text/plain": [
              "           application_ID  decision_date    company_ID  external_score_ver01  \\\n",
              "1786   a1Q7R00000eiXseUAE            682  7.210594e+09                     8   \n",
              "24477  a1Q7R00000eiopnUAA            694  9.085873e+09                     6   \n",
              "21064  a1Q7R00000eiRoWUAU            645  1.708406e+09                     8   \n",
              "24841  a1Q7R00000eiOljUAE            631  3.153185e+09                     6   \n",
              "1655   a1Q7R00000eiMBFUA2            610  2.429153e+09                     5   \n",
              "...                   ...            ...           ...                   ...   \n",
              "18547  a1Q7R00000g5y4LUAQ            819  7.840150e+09                     9   \n",
              "26968  a1Q7R00000a3C1wUAE            557  3.244555e+08                     4   \n",
              "3753   a1Q7R00000c7PWMUA2            868  1.287521e+09                     7   \n",
              "22753  a1Q7R00000ZWVLMUA5            443  5.390194e+09                     4   \n",
              "895    a1Q7R00000ejS3ZUAU            764  9.207381e+09                     5   \n",
              "\n",
              "       external_score_ver02  late_payment_score  \\\n",
              "1786                      2                 7.0   \n",
              "24477                     3                 NaN   \n",
              "21064                     3                 NaN   \n",
              "24841                     2                 NaN   \n",
              "1655                      1                12.0   \n",
              "...                     ...                 ...   \n",
              "18547                     2                 NaN   \n",
              "26968                     1                 NaN   \n",
              "3753                      2                 NaN   \n",
              "22753                     1                 NaN   \n",
              "895                       1                 NaN   \n",
              "\n",
              "       external_score_late_payment_integrated  external_score_moderate  \\\n",
              "1786                                      8.0                      8.0   \n",
              "24477                                     NaN                      NaN   \n",
              "21064                                     NaN                      NaN   \n",
              "24841                                     NaN                      NaN   \n",
              "1655                                      3.0                      4.0   \n",
              "...                                       ...                      ...   \n",
              "18547                                     NaN                      NaN   \n",
              "26968                                     NaN                      NaN   \n",
              "3753                                      NaN                      NaN   \n",
              "22753                                     NaN                      NaN   \n",
              "895                                       NaN                      NaN   \n",
              "\n",
              "       external_score_adverse  external_score_ver03  ...  \\\n",
              "1786                      8.0                  12.0  ...   \n",
              "24477                     NaN                   7.0  ...   \n",
              "21064                     NaN                   7.0  ...   \n",
              "24841                     NaN                   7.0  ...   \n",
              "1655                      4.0                  10.0  ...   \n",
              "...                       ...                   ...  ...   \n",
              "18547                     NaN                   NaN  ...   \n",
              "26968                     NaN                   6.0  ...   \n",
              "3753                      NaN                   9.0  ...   \n",
              "22753                     NaN                   4.0  ...   \n",
              "895                       NaN                  11.0  ...   \n",
              "\n",
              "       max_count_enti_affidanti  last_count_enti_affidanti  \\\n",
              "1786                          2                          2   \n",
              "24477                         1                          1   \n",
              "21064                         1                          1   \n",
              "24841                         1                          1   \n",
              "1655                          2                          2   \n",
              "...                         ...                        ...   \n",
              "18547                        11                         11   \n",
              "26968                        13                         13   \n",
              "3753                          5                          5   \n",
              "22753                         3                          3   \n",
              "895                           1                          1   \n",
              "\n",
              "       avg_count_numero_prima_info  std_count_numero_prima_info  \\\n",
              "1786                      3.166667                     0.577350   \n",
              "24477                     1.000000                     0.000000   \n",
              "21064                     1.000000                     0.000000   \n",
              "24841                     1.833333                     1.029857   \n",
              "1655                      1.083333                     0.288675   \n",
              "...                            ...                          ...   \n",
              "18547                     0.000000                     0.000000   \n",
              "26968                     1.000000                     0.000000   \n",
              "3753                      2.000000                     0.000000   \n",
              "22753                     2.916667                     0.514929   \n",
              "895                       0.000000                     0.000000   \n",
              "\n",
              "       max_count_numero_prima_info  last_count_numero_prima_info  \\\n",
              "1786                             5                             5   \n",
              "24477                            1                             1   \n",
              "21064                            1                             1   \n",
              "24841                            3                             3   \n",
              "1655                             2                             2   \n",
              "...                            ...                           ...   \n",
              "18547                            0                             0   \n",
              "26968                            1                             1   \n",
              "3753                             2                             2   \n",
              "22753                            4                             4   \n",
              "895                              0                             0   \n",
              "\n",
              "       days_to_default  target  default_prediction  reg_prediction  \n",
              "1786              1498       0                   1     1068.544895  \n",
              "24477             1498       0                   0     1498.000000  \n",
              "21064             1498       0                   0     1498.000000  \n",
              "24841              112       1                   0     1498.000000  \n",
              "1655              1498       0                   0     1498.000000  \n",
              "...                ...     ...                 ...             ...  \n",
              "18547              508       1                   0     1498.000000  \n",
              "26968             1498       0                   0     1498.000000  \n",
              "3753              1498       0                   0     1498.000000  \n",
              "22753             1498       0                   0     1498.000000  \n",
              "895               1498       0                   0     1498.000000  \n",
              "\n",
              "[6407 rows x 50 columns]"
            ],
            "text/html": [
              "\n",
              "  <div id=\"df-f60a120c-b6ae-4fab-9477-5d490111dfc8\" class=\"colab-df-container\">\n",
              "    <div>\n",
              "<style scoped>\n",
              "    .dataframe tbody tr th:only-of-type {\n",
              "        vertical-align: middle;\n",
              "    }\n",
              "\n",
              "    .dataframe tbody tr th {\n",
              "        vertical-align: top;\n",
              "    }\n",
              "\n",
              "    .dataframe thead th {\n",
              "        text-align: right;\n",
              "    }\n",
              "</style>\n",
              "<table border=\"1\" class=\"dataframe\">\n",
              "  <thead>\n",
              "    <tr style=\"text-align: right;\">\n",
              "      <th></th>\n",
              "      <th>application_ID</th>\n",
              "      <th>decision_date</th>\n",
              "      <th>company_ID</th>\n",
              "      <th>external_score_ver01</th>\n",
              "      <th>external_score_ver02</th>\n",
              "      <th>late_payment_score</th>\n",
              "      <th>external_score_late_payment_integrated</th>\n",
              "      <th>external_score_moderate</th>\n",
              "      <th>external_score_adverse</th>\n",
              "      <th>external_score_ver03</th>\n",
              "      <th>...</th>\n",
              "      <th>max_count_enti_affidanti</th>\n",
              "      <th>last_count_enti_affidanti</th>\n",
              "      <th>avg_count_numero_prima_info</th>\n",
              "      <th>std_count_numero_prima_info</th>\n",
              "      <th>max_count_numero_prima_info</th>\n",
              "      <th>last_count_numero_prima_info</th>\n",
              "      <th>days_to_default</th>\n",
              "      <th>target</th>\n",
              "      <th>default_prediction</th>\n",
              "      <th>reg_prediction</th>\n",
              "    </tr>\n",
              "  </thead>\n",
              "  <tbody>\n",
              "    <tr>\n",
              "      <th>1786</th>\n",
              "      <td>a1Q7R00000eiXseUAE</td>\n",
              "      <td>682</td>\n",
              "      <td>7.210594e+09</td>\n",
              "      <td>8</td>\n",
              "      <td>2</td>\n",
              "      <td>7.0</td>\n",
              "      <td>8.0</td>\n",
              "      <td>8.0</td>\n",
              "      <td>8.0</td>\n",
              "      <td>12.0</td>\n",
              "      <td>...</td>\n",
              "      <td>2</td>\n",
              "      <td>2</td>\n",
              "      <td>3.166667</td>\n",
              "      <td>0.577350</td>\n",
              "      <td>5</td>\n",
              "      <td>5</td>\n",
              "      <td>1498</td>\n",
              "      <td>0</td>\n",
              "      <td>1</td>\n",
              "      <td>1068.544895</td>\n",
              "    </tr>\n",
              "    <tr>\n",
              "      <th>24477</th>\n",
              "      <td>a1Q7R00000eiopnUAA</td>\n",
              "      <td>694</td>\n",
              "      <td>9.085873e+09</td>\n",
              "      <td>6</td>\n",
              "      <td>3</td>\n",
              "      <td>NaN</td>\n",
              "      <td>NaN</td>\n",
              "      <td>NaN</td>\n",
              "      <td>NaN</td>\n",
              "      <td>7.0</td>\n",
              "      <td>...</td>\n",
              "      <td>1</td>\n",
              "      <td>1</td>\n",
              "      <td>1.000000</td>\n",
              "      <td>0.000000</td>\n",
              "      <td>1</td>\n",
              "      <td>1</td>\n",
              "      <td>1498</td>\n",
              "      <td>0</td>\n",
              "      <td>0</td>\n",
              "      <td>1498.000000</td>\n",
              "    </tr>\n",
              "    <tr>\n",
              "      <th>21064</th>\n",
              "      <td>a1Q7R00000eiRoWUAU</td>\n",
              "      <td>645</td>\n",
              "      <td>1.708406e+09</td>\n",
              "      <td>8</td>\n",
              "      <td>3</td>\n",
              "      <td>NaN</td>\n",
              "      <td>NaN</td>\n",
              "      <td>NaN</td>\n",
              "      <td>NaN</td>\n",
              "      <td>7.0</td>\n",
              "      <td>...</td>\n",
              "      <td>1</td>\n",
              "      <td>1</td>\n",
              "      <td>1.000000</td>\n",
              "      <td>0.000000</td>\n",
              "      <td>1</td>\n",
              "      <td>1</td>\n",
              "      <td>1498</td>\n",
              "      <td>0</td>\n",
              "      <td>0</td>\n",
              "      <td>1498.000000</td>\n",
              "    </tr>\n",
              "    <tr>\n",
              "      <th>24841</th>\n",
              "      <td>a1Q7R00000eiOljUAE</td>\n",
              "      <td>631</td>\n",
              "      <td>3.153185e+09</td>\n",
              "      <td>6</td>\n",
              "      <td>2</td>\n",
              "      <td>NaN</td>\n",
              "      <td>NaN</td>\n",
              "      <td>NaN</td>\n",
              "      <td>NaN</td>\n",
              "      <td>7.0</td>\n",
              "      <td>...</td>\n",
              "      <td>1</td>\n",
              "      <td>1</td>\n",
              "      <td>1.833333</td>\n",
              "      <td>1.029857</td>\n",
              "      <td>3</td>\n",
              "      <td>3</td>\n",
              "      <td>112</td>\n",
              "      <td>1</td>\n",
              "      <td>0</td>\n",
              "      <td>1498.000000</td>\n",
              "    </tr>\n",
              "    <tr>\n",
              "      <th>1655</th>\n",
              "      <td>a1Q7R00000eiMBFUA2</td>\n",
              "      <td>610</td>\n",
              "      <td>2.429153e+09</td>\n",
              "      <td>5</td>\n",
              "      <td>1</td>\n",
              "      <td>12.0</td>\n",
              "      <td>3.0</td>\n",
              "      <td>4.0</td>\n",
              "      <td>4.0</td>\n",
              "      <td>10.0</td>\n",
              "      <td>...</td>\n",
              "      <td>2</td>\n",
              "      <td>2</td>\n",
              "      <td>1.083333</td>\n",
              "      <td>0.288675</td>\n",
              "      <td>2</td>\n",
              "      <td>2</td>\n",
              "      <td>1498</td>\n",
              "      <td>0</td>\n",
              "      <td>0</td>\n",
              "      <td>1498.000000</td>\n",
              "    </tr>\n",
              "    <tr>\n",
              "      <th>...</th>\n",
              "      <td>...</td>\n",
              "      <td>...</td>\n",
              "      <td>...</td>\n",
              "      <td>...</td>\n",
              "      <td>...</td>\n",
              "      <td>...</td>\n",
              "      <td>...</td>\n",
              "      <td>...</td>\n",
              "      <td>...</td>\n",
              "      <td>...</td>\n",
              "      <td>...</td>\n",
              "      <td>...</td>\n",
              "      <td>...</td>\n",
              "      <td>...</td>\n",
              "      <td>...</td>\n",
              "      <td>...</td>\n",
              "      <td>...</td>\n",
              "      <td>...</td>\n",
              "      <td>...</td>\n",
              "      <td>...</td>\n",
              "      <td>...</td>\n",
              "    </tr>\n",
              "    <tr>\n",
              "      <th>18547</th>\n",
              "      <td>a1Q7R00000g5y4LUAQ</td>\n",
              "      <td>819</td>\n",
              "      <td>7.840150e+09</td>\n",
              "      <td>9</td>\n",
              "      <td>2</td>\n",
              "      <td>NaN</td>\n",
              "      <td>NaN</td>\n",
              "      <td>NaN</td>\n",
              "      <td>NaN</td>\n",
              "      <td>NaN</td>\n",
              "      <td>...</td>\n",
              "      <td>11</td>\n",
              "      <td>11</td>\n",
              "      <td>0.000000</td>\n",
              "      <td>0.000000</td>\n",
              "      <td>0</td>\n",
              "      <td>0</td>\n",
              "      <td>508</td>\n",
              "      <td>1</td>\n",
              "      <td>0</td>\n",
              "      <td>1498.000000</td>\n",
              "    </tr>\n",
              "    <tr>\n",
              "      <th>26968</th>\n",
              "      <td>a1Q7R00000a3C1wUAE</td>\n",
              "      <td>557</td>\n",
              "      <td>3.244555e+08</td>\n",
              "      <td>4</td>\n",
              "      <td>1</td>\n",
              "      <td>NaN</td>\n",
              "      <td>NaN</td>\n",
              "      <td>NaN</td>\n",
              "      <td>NaN</td>\n",
              "      <td>6.0</td>\n",
              "      <td>...</td>\n",
              "      <td>13</td>\n",
              "      <td>13</td>\n",
              "      <td>1.000000</td>\n",
              "      <td>0.000000</td>\n",
              "      <td>1</td>\n",
              "      <td>1</td>\n",
              "      <td>1498</td>\n",
              "      <td>0</td>\n",
              "      <td>0</td>\n",
              "      <td>1498.000000</td>\n",
              "    </tr>\n",
              "    <tr>\n",
              "      <th>3753</th>\n",
              "      <td>a1Q7R00000c7PWMUA2</td>\n",
              "      <td>868</td>\n",
              "      <td>1.287521e+09</td>\n",
              "      <td>7</td>\n",
              "      <td>2</td>\n",
              "      <td>NaN</td>\n",
              "      <td>NaN</td>\n",
              "      <td>NaN</td>\n",
              "      <td>NaN</td>\n",
              "      <td>9.0</td>\n",
              "      <td>...</td>\n",
              "      <td>5</td>\n",
              "      <td>5</td>\n",
              "      <td>2.000000</td>\n",
              "      <td>0.000000</td>\n",
              "      <td>2</td>\n",
              "      <td>2</td>\n",
              "      <td>1498</td>\n",
              "      <td>0</td>\n",
              "      <td>0</td>\n",
              "      <td>1498.000000</td>\n",
              "    </tr>\n",
              "    <tr>\n",
              "      <th>22753</th>\n",
              "      <td>a1Q7R00000ZWVLMUA5</td>\n",
              "      <td>443</td>\n",
              "      <td>5.390194e+09</td>\n",
              "      <td>4</td>\n",
              "      <td>1</td>\n",
              "      <td>NaN</td>\n",
              "      <td>NaN</td>\n",
              "      <td>NaN</td>\n",
              "      <td>NaN</td>\n",
              "      <td>4.0</td>\n",
              "      <td>...</td>\n",
              "      <td>3</td>\n",
              "      <td>3</td>\n",
              "      <td>2.916667</td>\n",
              "      <td>0.514929</td>\n",
              "      <td>4</td>\n",
              "      <td>4</td>\n",
              "      <td>1498</td>\n",
              "      <td>0</td>\n",
              "      <td>0</td>\n",
              "      <td>1498.000000</td>\n",
              "    </tr>\n",
              "    <tr>\n",
              "      <th>895</th>\n",
              "      <td>a1Q7R00000ejS3ZUAU</td>\n",
              "      <td>764</td>\n",
              "      <td>9.207381e+09</td>\n",
              "      <td>5</td>\n",
              "      <td>1</td>\n",
              "      <td>NaN</td>\n",
              "      <td>NaN</td>\n",
              "      <td>NaN</td>\n",
              "      <td>NaN</td>\n",
              "      <td>11.0</td>\n",
              "      <td>...</td>\n",
              "      <td>1</td>\n",
              "      <td>1</td>\n",
              "      <td>0.000000</td>\n",
              "      <td>0.000000</td>\n",
              "      <td>0</td>\n",
              "      <td>0</td>\n",
              "      <td>1498</td>\n",
              "      <td>0</td>\n",
              "      <td>0</td>\n",
              "      <td>1498.000000</td>\n",
              "    </tr>\n",
              "  </tbody>\n",
              "</table>\n",
              "<p>6407 rows × 50 columns</p>\n",
              "</div>\n",
              "    <div class=\"colab-df-buttons\">\n",
              "\n",
              "  <div class=\"colab-df-container\">\n",
              "    <button class=\"colab-df-convert\" onclick=\"convertToInteractive('df-f60a120c-b6ae-4fab-9477-5d490111dfc8')\"\n",
              "            title=\"Convert this dataframe to an interactive table.\"\n",
              "            style=\"display:none;\">\n",
              "\n",
              "  <svg xmlns=\"http://www.w3.org/2000/svg\" height=\"24px\" viewBox=\"0 -960 960 960\">\n",
              "    <path d=\"M120-120v-720h720v720H120Zm60-500h600v-160H180v160Zm220 220h160v-160H400v160Zm0 220h160v-160H400v160ZM180-400h160v-160H180v160Zm440 0h160v-160H620v160ZM180-180h160v-160H180v160Zm440 0h160v-160H620v160Z\"/>\n",
              "  </svg>\n",
              "    </button>\n",
              "\n",
              "  <style>\n",
              "    .colab-df-container {\n",
              "      display:flex;\n",
              "      gap: 12px;\n",
              "    }\n",
              "\n",
              "    .colab-df-convert {\n",
              "      background-color: #E8F0FE;\n",
              "      border: none;\n",
              "      border-radius: 50%;\n",
              "      cursor: pointer;\n",
              "      display: none;\n",
              "      fill: #1967D2;\n",
              "      height: 32px;\n",
              "      padding: 0 0 0 0;\n",
              "      width: 32px;\n",
              "    }\n",
              "\n",
              "    .colab-df-convert:hover {\n",
              "      background-color: #E2EBFA;\n",
              "      box-shadow: 0px 1px 2px rgba(60, 64, 67, 0.3), 0px 1px 3px 1px rgba(60, 64, 67, 0.15);\n",
              "      fill: #174EA6;\n",
              "    }\n",
              "\n",
              "    .colab-df-buttons div {\n",
              "      margin-bottom: 4px;\n",
              "    }\n",
              "\n",
              "    [theme=dark] .colab-df-convert {\n",
              "      background-color: #3B4455;\n",
              "      fill: #D2E3FC;\n",
              "    }\n",
              "\n",
              "    [theme=dark] .colab-df-convert:hover {\n",
              "      background-color: #434B5C;\n",
              "      box-shadow: 0px 1px 3px 1px rgba(0, 0, 0, 0.15);\n",
              "      filter: drop-shadow(0px 1px 2px rgba(0, 0, 0, 0.3));\n",
              "      fill: #FFFFFF;\n",
              "    }\n",
              "  </style>\n",
              "\n",
              "    <script>\n",
              "      const buttonEl =\n",
              "        document.querySelector('#df-f60a120c-b6ae-4fab-9477-5d490111dfc8 button.colab-df-convert');\n",
              "      buttonEl.style.display =\n",
              "        google.colab.kernel.accessAllowed ? 'block' : 'none';\n",
              "\n",
              "      async function convertToInteractive(key) {\n",
              "        const element = document.querySelector('#df-f60a120c-b6ae-4fab-9477-5d490111dfc8');\n",
              "        const dataTable =\n",
              "          await google.colab.kernel.invokeFunction('convertToInteractive',\n",
              "                                                    [key], {});\n",
              "        if (!dataTable) return;\n",
              "\n",
              "        const docLinkHtml = 'Like what you see? Visit the ' +\n",
              "          '<a target=\"_blank\" href=https://colab.research.google.com/notebooks/data_table.ipynb>data table notebook</a>'\n",
              "          + ' to learn more about interactive tables.';\n",
              "        element.innerHTML = '';\n",
              "        dataTable['output_type'] = 'display_data';\n",
              "        await google.colab.output.renderOutput(dataTable, element);\n",
              "        const docLink = document.createElement('div');\n",
              "        docLink.innerHTML = docLinkHtml;\n",
              "        element.appendChild(docLink);\n",
              "      }\n",
              "    </script>\n",
              "  </div>\n",
              "\n",
              "\n",
              "<div id=\"df-50cf4602-d586-43cd-8757-65cef54ad012\">\n",
              "  <button class=\"colab-df-quickchart\" onclick=\"quickchart('df-50cf4602-d586-43cd-8757-65cef54ad012')\"\n",
              "            title=\"Suggest charts\"\n",
              "            style=\"display:none;\">\n",
              "\n",
              "<svg xmlns=\"http://www.w3.org/2000/svg\" height=\"24px\"viewBox=\"0 0 24 24\"\n",
              "     width=\"24px\">\n",
              "    <g>\n",
              "        <path d=\"M19 3H5c-1.1 0-2 .9-2 2v14c0 1.1.9 2 2 2h14c1.1 0 2-.9 2-2V5c0-1.1-.9-2-2-2zM9 17H7v-7h2v7zm4 0h-2V7h2v10zm4 0h-2v-4h2v4z\"/>\n",
              "    </g>\n",
              "</svg>\n",
              "  </button>\n",
              "\n",
              "<style>\n",
              "  .colab-df-quickchart {\n",
              "      --bg-color: #E8F0FE;\n",
              "      --fill-color: #1967D2;\n",
              "      --hover-bg-color: #E2EBFA;\n",
              "      --hover-fill-color: #174EA6;\n",
              "      --disabled-fill-color: #AAA;\n",
              "      --disabled-bg-color: #DDD;\n",
              "  }\n",
              "\n",
              "  [theme=dark] .colab-df-quickchart {\n",
              "      --bg-color: #3B4455;\n",
              "      --fill-color: #D2E3FC;\n",
              "      --hover-bg-color: #434B5C;\n",
              "      --hover-fill-color: #FFFFFF;\n",
              "      --disabled-bg-color: #3B4455;\n",
              "      --disabled-fill-color: #666;\n",
              "  }\n",
              "\n",
              "  .colab-df-quickchart {\n",
              "    background-color: var(--bg-color);\n",
              "    border: none;\n",
              "    border-radius: 50%;\n",
              "    cursor: pointer;\n",
              "    display: none;\n",
              "    fill: var(--fill-color);\n",
              "    height: 32px;\n",
              "    padding: 0;\n",
              "    width: 32px;\n",
              "  }\n",
              "\n",
              "  .colab-df-quickchart:hover {\n",
              "    background-color: var(--hover-bg-color);\n",
              "    box-shadow: 0 1px 2px rgba(60, 64, 67, 0.3), 0 1px 3px 1px rgba(60, 64, 67, 0.15);\n",
              "    fill: var(--button-hover-fill-color);\n",
              "  }\n",
              "\n",
              "  .colab-df-quickchart-complete:disabled,\n",
              "  .colab-df-quickchart-complete:disabled:hover {\n",
              "    background-color: var(--disabled-bg-color);\n",
              "    fill: var(--disabled-fill-color);\n",
              "    box-shadow: none;\n",
              "  }\n",
              "\n",
              "  .colab-df-spinner {\n",
              "    border: 2px solid var(--fill-color);\n",
              "    border-color: transparent;\n",
              "    border-bottom-color: var(--fill-color);\n",
              "    animation:\n",
              "      spin 1s steps(1) infinite;\n",
              "  }\n",
              "\n",
              "  @keyframes spin {\n",
              "    0% {\n",
              "      border-color: transparent;\n",
              "      border-bottom-color: var(--fill-color);\n",
              "      border-left-color: var(--fill-color);\n",
              "    }\n",
              "    20% {\n",
              "      border-color: transparent;\n",
              "      border-left-color: var(--fill-color);\n",
              "      border-top-color: var(--fill-color);\n",
              "    }\n",
              "    30% {\n",
              "      border-color: transparent;\n",
              "      border-left-color: var(--fill-color);\n",
              "      border-top-color: var(--fill-color);\n",
              "      border-right-color: var(--fill-color);\n",
              "    }\n",
              "    40% {\n",
              "      border-color: transparent;\n",
              "      border-right-color: var(--fill-color);\n",
              "      border-top-color: var(--fill-color);\n",
              "    }\n",
              "    60% {\n",
              "      border-color: transparent;\n",
              "      border-right-color: var(--fill-color);\n",
              "    }\n",
              "    80% {\n",
              "      border-color: transparent;\n",
              "      border-right-color: var(--fill-color);\n",
              "      border-bottom-color: var(--fill-color);\n",
              "    }\n",
              "    90% {\n",
              "      border-color: transparent;\n",
              "      border-bottom-color: var(--fill-color);\n",
              "    }\n",
              "  }\n",
              "</style>\n",
              "\n",
              "  <script>\n",
              "    async function quickchart(key) {\n",
              "      const quickchartButtonEl =\n",
              "        document.querySelector('#' + key + ' button');\n",
              "      quickchartButtonEl.disabled = true;  // To prevent multiple clicks.\n",
              "      quickchartButtonEl.classList.add('colab-df-spinner');\n",
              "      try {\n",
              "        const charts = await google.colab.kernel.invokeFunction(\n",
              "            'suggestCharts', [key], {});\n",
              "      } catch (error) {\n",
              "        console.error('Error during call to suggestCharts:', error);\n",
              "      }\n",
              "      quickchartButtonEl.classList.remove('colab-df-spinner');\n",
              "      quickchartButtonEl.classList.add('colab-df-quickchart-complete');\n",
              "    }\n",
              "    (() => {\n",
              "      let quickchartButtonEl =\n",
              "        document.querySelector('#df-50cf4602-d586-43cd-8757-65cef54ad012 button');\n",
              "      quickchartButtonEl.style.display =\n",
              "        google.colab.kernel.accessAllowed ? 'block' : 'none';\n",
              "    })();\n",
              "  </script>\n",
              "</div>\n",
              "    </div>\n",
              "  </div>\n"
            ],
            "application/vnd.google.colaboratory.intrinsic+json": {
              "type": "dataframe",
              "variable_name": "df_local_val"
            }
          },
          "metadata": {},
          "execution_count": 22
        }
      ]
    },
    {
      "cell_type": "code",
      "source": [
        "print(\"Validation Local MAE: \", mae(df_local_val.days_to_default, df_local_val.reg_prediction))"
      ],
      "metadata": {
        "colab": {
          "base_uri": "https://localhost:8080/"
        },
        "id": "16goa0Fba23A",
        "outputId": "5d306248-c128-4319-a482-932a1f2e24a6"
      },
      "execution_count": 23,
      "outputs": [
        {
          "output_type": "stream",
          "name": "stdout",
          "text": [
            "Validation Local MAE:  157.9622209185935\n"
          ]
        }
      ]
    },
    {
      "cell_type": "markdown",
      "source": [
        "# Submit solution"
      ],
      "metadata": {
        "id": "DEA6Y5Wz3IkF"
      }
    },
    {
      "cell_type": "code",
      "source": [
        "df_test_val = df_test.copy()\n",
        "\n",
        "# Making predictions\n",
        "y_final = classificator.predict(df_test_val[class_columns], num_iteration=classificator.best_iteration)\n",
        "\n",
        "# Converting probabilities to binary predictions\n",
        "y_final_binary = [1 if pred > 0.5 else 0 for pred in y_final]\n",
        "\n",
        "df_test_val['default_prediction'] = y_final_binary\n",
        "\n",
        "df_test_val['reg_prediction'] = df_test_val.apply(lambda row: regressor.predict([row[reg_columns].values])[0] if row['default_prediction'] == 1 else 1498, axis=1)"
      ],
      "metadata": {
        "id": "cpLof21jbPWC"
      },
      "execution_count": null,
      "outputs": []
    },
    {
      "cell_type": "code",
      "source": [
        "submission = pd.DataFrame(df_test_val['reg_prediction'])"
      ],
      "metadata": {
        "id": "e2Iz0L2Yrv8r"
      },
      "execution_count": null,
      "outputs": []
    },
    {
      "cell_type": "code",
      "source": [
        "submission.to_csv(\"file.csv\", index=False, header=False)"
      ],
      "metadata": {
        "id": "RE2SBQXzr9uh"
      },
      "execution_count": null,
      "outputs": []
    }
  ]
}
{
  "nbformat": 4,
  "nbformat_minor": 0,
  "metadata": {
    "colab": {
      "provenance": [],
      "authorship_tag": "ABX9TyOFINw3LHaV+63XHYCZ0hvM",
      "include_colab_link": true
    },
    "kernelspec": {
      "name": "python3",
      "display_name": "Python 3"
    },
    "language_info": {
      "name": "python"
    }
  },
  "cells": [
    {
      "cell_type": "markdown",
      "metadata": {
        "id": "view-in-github",
        "colab_type": "text"
      },
      "source": [
        "<a href=\"https://colab.research.google.com/github/Meguazy/HACK_4DS/blob/main/notebooks_luca/DAY1_HACK4DS.ipynb\" target=\"_parent\"><img src=\"https://colab.research.google.com/assets/colab-badge.svg\" alt=\"Open In Colab\"/></a>"
      ]
    },
    {
      "cell_type": "markdown",
      "source": [
        "# Initial"
      ],
      "metadata": {
        "id": "-Ha47nwWoTsz"
      }
    },
    {
      "cell_type": "code",
      "execution_count": 1,
      "metadata": {
        "id": "qmD21Xwaismg",
        "colab": {
          "base_uri": "https://localhost:8080/"
        },
        "outputId": "4f348eb8-852a-4624-caab-b216a623484a"
      },
      "outputs": [
        {
          "output_type": "stream",
          "name": "stdout",
          "text": [
            "Cloning into 'HACK_4DS'...\n",
            "remote: Enumerating objects: 46, done.\u001b[K\n",
            "remote: Counting objects: 100% (46/46), done.\u001b[K\n",
            "remote: Compressing objects: 100% (39/39), done.\u001b[K\n",
            "remote: Total 46 (delta 11), reused 1 (delta 0), pack-reused 0\u001b[K\n",
            "Receiving objects: 100% (46/46), 11.25 MiB | 5.44 MiB/s, done.\n",
            "Resolving deltas: 100% (11/11), done.\n"
          ]
        }
      ],
      "source": [
        "!git clone https://github.com/Meguazy/HACK_4DS.git"
      ]
    },
    {
      "cell_type": "code",
      "source": [
        "!git pull"
      ],
      "metadata": {
        "colab": {
          "base_uri": "https://localhost:8080/"
        },
        "id": "t3IsSBfmCDzn",
        "outputId": "0c202114-ab3b-4ae1-9489-574240dba069"
      },
      "execution_count": 51,
      "outputs": [
        {
          "output_type": "stream",
          "name": "stdout",
          "text": [
            "remote: Enumerating objects: 6, done.\u001b[K\n",
            "remote: Counting objects:  16% (1/6)\u001b[K\rremote: Counting objects:  33% (2/6)\u001b[K\rremote: Counting objects:  50% (3/6)\u001b[K\rremote: Counting objects:  66% (4/6)\u001b[K\rremote: Counting objects:  83% (5/6)\u001b[K\rremote: Counting objects: 100% (6/6)\u001b[K\rremote: Counting objects: 100% (6/6), done.\u001b[K\n",
            "remote: Compressing objects: 100% (4/4), done.\u001b[K\n",
            "remote: Total 4 (delta 1), reused 0 (delta 0), pack-reused 0\u001b[K\n",
            "Unpacking objects: 100% (4/4), 1.82 MiB | 3.34 MiB/s, done.\n",
            "From https://github.com/Meguazy/HACK_4DS\n",
            "   390b563..22974ad  main       -> origin/main\n",
            "Updating 390b563..22974ad\n",
            "Fast-forward\n",
            " data/dropped.csv | 32033 \u001b[32m+++++++++++++++++++++++++++++++++++++++++++++++++++++++++++++++++++++++++\u001b[m\n",
            " 1 file changed, 32033 insertions(+)\n",
            " create mode 100644 data/dropped.csv\n"
          ]
        }
      ]
    },
    {
      "cell_type": "code",
      "source": [
        "%cd HACK_4DS"
      ],
      "metadata": {
        "colab": {
          "base_uri": "https://localhost:8080/"
        },
        "id": "v_R2sqZ4kkX2",
        "outputId": "895bda3a-35ed-4321-d3ec-f54f04d36c72"
      },
      "execution_count": 2,
      "outputs": [
        {
          "output_type": "stream",
          "name": "stdout",
          "text": [
            "/content/HACK_4DS\n"
          ]
        }
      ]
    },
    {
      "cell_type": "code",
      "source": [
        "import pandas as pd\n",
        "import numpy as np\n",
        "import matplotlib.pyplot as plt"
      ],
      "metadata": {
        "id": "_iDiHJkQkVce"
      },
      "execution_count": 3,
      "outputs": []
    },
    {
      "cell_type": "code",
      "source": [
        "df_train = pd.read_csv(\"data/train_set.csv\", sep=\";\", quotechar=\"\\\"\", decimal=\",\")"
      ],
      "metadata": {
        "id": "FD8F2dIckg19"
      },
      "execution_count": 5,
      "outputs": []
    },
    {
      "cell_type": "code",
      "source": [
        "df_test = pd.read_csv(\"data/test_set.csv\", sep=\";\", quotechar=\"\\\"\", decimal=\",\")"
      ],
      "metadata": {
        "id": "rqCRCcm2kwbj"
      },
      "execution_count": 4,
      "outputs": []
    },
    {
      "cell_type": "code",
      "source": [
        "df_train.external_score_ver03.unique()"
      ],
      "metadata": {
        "colab": {
          "base_uri": "https://localhost:8080/"
        },
        "id": "wIP5sslgk1lt",
        "outputId": "3496cbd7-b746-4fe7-d63a-d16185ea70b5"
      },
      "execution_count": 36,
      "outputs": [
        {
          "output_type": "execute_result",
          "data": {
            "text/plain": [
              "array(['MISSING', 'H', 'C', 'E', 'G', 'F', 'D', 'I', 'M', 'L', 'A', 'O',\n",
              "       'P', 'N', 'B'], dtype=object)"
            ]
          },
          "metadata": {},
          "execution_count": 36
        }
      ]
    },
    {
      "cell_type": "code",
      "source": [
        "external_score_ver03_dictionary = {\n",
        "    \"MISSING\":None,\n",
        "    \"A\":14,\n",
        "    \"B\":13,\n",
        "    \"C\":12,\n",
        "    \"D\":11,\n",
        "    \"E\":10,\n",
        "    \"F\":9,\n",
        "    \"G\":8,\n",
        "    \"H\":7,\n",
        "    \"I\":6,\n",
        "    \"L\":5,\n",
        "    \"M\":4,\n",
        "    \"N\":3,\n",
        "    \"O\":2,\n",
        "    \"P\":1\n",
        "}\n",
        "\n",
        "df_train = df_train.replace({\"external_score_ver03\": external_score_ver03_dictionary})"
      ],
      "metadata": {
        "colab": {
          "base_uri": "https://localhost:8080/",
          "height": 444
        },
        "id": "3JRQXbYlm5YN",
        "outputId": "3fc513aa-c8ff-4f1c-edad-e9000a9df400"
      },
      "execution_count": 13,
      "outputs": [
        {
          "output_type": "execute_result",
          "data": {
            "text/plain": [
              "           application_ID decision_date    company_ID  external_score_ver01  \\\n",
              "0      a1Q7R00000ej2yjUAA    2021-11-30  7.256588e+09                    10   \n",
              "1      a1Q2X00000ZWC5LUAX    2020-10-06  6.178307e+09                     7   \n",
              "2      a1Q2X00000XcCCQUA3    2020-02-11  7.692855e+09                     7   \n",
              "3      a1Q7R00000ejSs3UAE    2022-01-18  5.752242e+09                     8   \n",
              "4      a1Q7R00000eiRidUAE    2021-09-16  7.533507e+09                     4   \n",
              "...                   ...           ...           ...                   ...   \n",
              "32027  a1Q7R00000a2mlUUAQ    2021-03-12  4.270447e+09                     8   \n",
              "32028  a1Q7R00000a302dUAA    2021-05-06  7.809509e+09                     5   \n",
              "32029  a1Q7R00000aBD7ZUAW    2021-08-11  3.093873e+09                     5   \n",
              "32030  a1Q7R00000c7hlPUAQ    2022-06-07  5.879529e+09                     7   \n",
              "32031  a1Q7R00000a32rxUAA    2021-05-24  6.881651e+09                     6   \n",
              "\n",
              "       external_score_ver02  late_payment_score  \\\n",
              "0                         3                 NaN   \n",
              "1                         3                 NaN   \n",
              "2                         3                 NaN   \n",
              "3                         2                 NaN   \n",
              "4                         1                 NaN   \n",
              "...                     ...                 ...   \n",
              "32027                     1                 NaN   \n",
              "32028                     1                 NaN   \n",
              "32029                     1                 NaN   \n",
              "32030                     1                 NaN   \n",
              "32031                     1                 NaN   \n",
              "\n",
              "       external_score_late_payment_integrated  external_score_moderate  \\\n",
              "0                                         NaN                      NaN   \n",
              "1                                         NaN                      NaN   \n",
              "2                                         NaN                      NaN   \n",
              "3                                         NaN                      NaN   \n",
              "4                                         NaN                      NaN   \n",
              "...                                       ...                      ...   \n",
              "32027                                     NaN                      NaN   \n",
              "32028                                     NaN                      NaN   \n",
              "32029                                     NaN                      NaN   \n",
              "32030                                     NaN                      NaN   \n",
              "32031                                     NaN                      NaN   \n",
              "\n",
              "       external_score_adverse  external_score_ver03  ...  \\\n",
              "0                         NaN                   NaN  ...   \n",
              "1                         NaN                   7.0  ...   \n",
              "2                         NaN                   NaN  ...   \n",
              "3                         NaN                   NaN  ...   \n",
              "4                         NaN                   NaN  ...   \n",
              "...                       ...                   ...  ...   \n",
              "32027                     NaN                  10.0  ...   \n",
              "32028                     NaN                   5.0  ...   \n",
              "32029                     NaN                  10.0  ...   \n",
              "32030                     NaN                   9.0  ...   \n",
              "32031                     NaN                  10.0  ...   \n",
              "\n",
              "       avg_count_enti_affidanti std_count_enti_affidanti  \\\n",
              "0                      1.000000                 0.000000   \n",
              "1                      1.000000                 0.000000   \n",
              "2                      1.000000                 0.000000   \n",
              "3                      1.000000                 0.000000   \n",
              "4                      0.000000                 0.000000   \n",
              "...                         ...                      ...   \n",
              "32027                  7.083333                 1.311372   \n",
              "32028                  4.583333                 0.900337   \n",
              "32029                  3.000000                 0.000000   \n",
              "32030                  5.333333                 0.492366   \n",
              "32031                  1.000000                 0.000000   \n",
              "\n",
              "      max_count_enti_affidanti last_count_enti_affidanti  \\\n",
              "0                            1                         1   \n",
              "1                            1                         1   \n",
              "2                            1                         1   \n",
              "3                            1                         1   \n",
              "4                            0                         0   \n",
              "...                        ...                       ...   \n",
              "32027                        8                         7   \n",
              "32028                        6                         5   \n",
              "32029                        3                         3   \n",
              "32030                        6                         6   \n",
              "32031                        1                         1   \n",
              "\n",
              "       avg_count_numero_prima_info  std_count_numero_prima_info  \\\n",
              "0                              0.0                     0.000000   \n",
              "1                              2.0                     0.000000   \n",
              "2                              1.0                     0.000000   \n",
              "3                              0.5                     0.522233   \n",
              "4                              0.0                     0.000000   \n",
              "...                            ...                          ...   \n",
              "32027                          1.5                     2.713602   \n",
              "32028                          4.0                     0.000000   \n",
              "32029                          1.0                     0.000000   \n",
              "32030                          0.0                     0.000000   \n",
              "32031                          0.0                     0.000000   \n",
              "\n",
              "       max_count_numero_prima_info  last_count_numero_prima_info  \\\n",
              "0                                0                             0   \n",
              "1                                2                             2   \n",
              "2                                1                             1   \n",
              "3                                1                             0   \n",
              "4                                0                             0   \n",
              "...                            ...                           ...   \n",
              "32027                            6                             0   \n",
              "32028                            4                             4   \n",
              "32029                            1                             1   \n",
              "32030                            0                             0   \n",
              "32031                            0                             0   \n",
              "\n",
              "       days_to_default  target  \n",
              "0                  522       1  \n",
              "1                 1498       0  \n",
              "2                  779       1  \n",
              "3                 1498       0  \n",
              "4                 1498       0  \n",
              "...                ...     ...  \n",
              "32027              894       1  \n",
              "32028             1498       0  \n",
              "32029             1498       0  \n",
              "32030               87       1  \n",
              "32031             1498       0  \n",
              "\n",
              "[32032 rows x 48 columns]"
            ],
            "text/html": [
              "\n",
              "  <div id=\"df-c99e50a7-0406-46ce-9d25-5f107cd9d65d\" class=\"colab-df-container\">\n",
              "    <div>\n",
              "<style scoped>\n",
              "    .dataframe tbody tr th:only-of-type {\n",
              "        vertical-align: middle;\n",
              "    }\n",
              "\n",
              "    .dataframe tbody tr th {\n",
              "        vertical-align: top;\n",
              "    }\n",
              "\n",
              "    .dataframe thead th {\n",
              "        text-align: right;\n",
              "    }\n",
              "</style>\n",
              "<table border=\"1\" class=\"dataframe\">\n",
              "  <thead>\n",
              "    <tr style=\"text-align: right;\">\n",
              "      <th></th>\n",
              "      <th>application_ID</th>\n",
              "      <th>decision_date</th>\n",
              "      <th>company_ID</th>\n",
              "      <th>external_score_ver01</th>\n",
              "      <th>external_score_ver02</th>\n",
              "      <th>late_payment_score</th>\n",
              "      <th>external_score_late_payment_integrated</th>\n",
              "      <th>external_score_moderate</th>\n",
              "      <th>external_score_adverse</th>\n",
              "      <th>external_score_ver03</th>\n",
              "      <th>...</th>\n",
              "      <th>avg_count_enti_affidanti</th>\n",
              "      <th>std_count_enti_affidanti</th>\n",
              "      <th>max_count_enti_affidanti</th>\n",
              "      <th>last_count_enti_affidanti</th>\n",
              "      <th>avg_count_numero_prima_info</th>\n",
              "      <th>std_count_numero_prima_info</th>\n",
              "      <th>max_count_numero_prima_info</th>\n",
              "      <th>last_count_numero_prima_info</th>\n",
              "      <th>days_to_default</th>\n",
              "      <th>target</th>\n",
              "    </tr>\n",
              "  </thead>\n",
              "  <tbody>\n",
              "    <tr>\n",
              "      <th>0</th>\n",
              "      <td>a1Q7R00000ej2yjUAA</td>\n",
              "      <td>2021-11-30</td>\n",
              "      <td>7.256588e+09</td>\n",
              "      <td>10</td>\n",
              "      <td>3</td>\n",
              "      <td>NaN</td>\n",
              "      <td>NaN</td>\n",
              "      <td>NaN</td>\n",
              "      <td>NaN</td>\n",
              "      <td>NaN</td>\n",
              "      <td>...</td>\n",
              "      <td>1.000000</td>\n",
              "      <td>0.000000</td>\n",
              "      <td>1</td>\n",
              "      <td>1</td>\n",
              "      <td>0.0</td>\n",
              "      <td>0.000000</td>\n",
              "      <td>0</td>\n",
              "      <td>0</td>\n",
              "      <td>522</td>\n",
              "      <td>1</td>\n",
              "    </tr>\n",
              "    <tr>\n",
              "      <th>1</th>\n",
              "      <td>a1Q2X00000ZWC5LUAX</td>\n",
              "      <td>2020-10-06</td>\n",
              "      <td>6.178307e+09</td>\n",
              "      <td>7</td>\n",
              "      <td>3</td>\n",
              "      <td>NaN</td>\n",
              "      <td>NaN</td>\n",
              "      <td>NaN</td>\n",
              "      <td>NaN</td>\n",
              "      <td>7.0</td>\n",
              "      <td>...</td>\n",
              "      <td>1.000000</td>\n",
              "      <td>0.000000</td>\n",
              "      <td>1</td>\n",
              "      <td>1</td>\n",
              "      <td>2.0</td>\n",
              "      <td>0.000000</td>\n",
              "      <td>2</td>\n",
              "      <td>2</td>\n",
              "      <td>1498</td>\n",
              "      <td>0</td>\n",
              "    </tr>\n",
              "    <tr>\n",
              "      <th>2</th>\n",
              "      <td>a1Q2X00000XcCCQUA3</td>\n",
              "      <td>2020-02-11</td>\n",
              "      <td>7.692855e+09</td>\n",
              "      <td>7</td>\n",
              "      <td>3</td>\n",
              "      <td>NaN</td>\n",
              "      <td>NaN</td>\n",
              "      <td>NaN</td>\n",
              "      <td>NaN</td>\n",
              "      <td>NaN</td>\n",
              "      <td>...</td>\n",
              "      <td>1.000000</td>\n",
              "      <td>0.000000</td>\n",
              "      <td>1</td>\n",
              "      <td>1</td>\n",
              "      <td>1.0</td>\n",
              "      <td>0.000000</td>\n",
              "      <td>1</td>\n",
              "      <td>1</td>\n",
              "      <td>779</td>\n",
              "      <td>1</td>\n",
              "    </tr>\n",
              "    <tr>\n",
              "      <th>3</th>\n",
              "      <td>a1Q7R00000ejSs3UAE</td>\n",
              "      <td>2022-01-18</td>\n",
              "      <td>5.752242e+09</td>\n",
              "      <td>8</td>\n",
              "      <td>2</td>\n",
              "      <td>NaN</td>\n",
              "      <td>NaN</td>\n",
              "      <td>NaN</td>\n",
              "      <td>NaN</td>\n",
              "      <td>NaN</td>\n",
              "      <td>...</td>\n",
              "      <td>1.000000</td>\n",
              "      <td>0.000000</td>\n",
              "      <td>1</td>\n",
              "      <td>1</td>\n",
              "      <td>0.5</td>\n",
              "      <td>0.522233</td>\n",
              "      <td>1</td>\n",
              "      <td>0</td>\n",
              "      <td>1498</td>\n",
              "      <td>0</td>\n",
              "    </tr>\n",
              "    <tr>\n",
              "      <th>4</th>\n",
              "      <td>a1Q7R00000eiRidUAE</td>\n",
              "      <td>2021-09-16</td>\n",
              "      <td>7.533507e+09</td>\n",
              "      <td>4</td>\n",
              "      <td>1</td>\n",
              "      <td>NaN</td>\n",
              "      <td>NaN</td>\n",
              "      <td>NaN</td>\n",
              "      <td>NaN</td>\n",
              "      <td>NaN</td>\n",
              "      <td>...</td>\n",
              "      <td>0.000000</td>\n",
              "      <td>0.000000</td>\n",
              "      <td>0</td>\n",
              "      <td>0</td>\n",
              "      <td>0.0</td>\n",
              "      <td>0.000000</td>\n",
              "      <td>0</td>\n",
              "      <td>0</td>\n",
              "      <td>1498</td>\n",
              "      <td>0</td>\n",
              "    </tr>\n",
              "    <tr>\n",
              "      <th>...</th>\n",
              "      <td>...</td>\n",
              "      <td>...</td>\n",
              "      <td>...</td>\n",
              "      <td>...</td>\n",
              "      <td>...</td>\n",
              "      <td>...</td>\n",
              "      <td>...</td>\n",
              "      <td>...</td>\n",
              "      <td>...</td>\n",
              "      <td>...</td>\n",
              "      <td>...</td>\n",
              "      <td>...</td>\n",
              "      <td>...</td>\n",
              "      <td>...</td>\n",
              "      <td>...</td>\n",
              "      <td>...</td>\n",
              "      <td>...</td>\n",
              "      <td>...</td>\n",
              "      <td>...</td>\n",
              "      <td>...</td>\n",
              "      <td>...</td>\n",
              "    </tr>\n",
              "    <tr>\n",
              "      <th>32027</th>\n",
              "      <td>a1Q7R00000a2mlUUAQ</td>\n",
              "      <td>2021-03-12</td>\n",
              "      <td>4.270447e+09</td>\n",
              "      <td>8</td>\n",
              "      <td>1</td>\n",
              "      <td>NaN</td>\n",
              "      <td>NaN</td>\n",
              "      <td>NaN</td>\n",
              "      <td>NaN</td>\n",
              "      <td>10.0</td>\n",
              "      <td>...</td>\n",
              "      <td>7.083333</td>\n",
              "      <td>1.311372</td>\n",
              "      <td>8</td>\n",
              "      <td>7</td>\n",
              "      <td>1.5</td>\n",
              "      <td>2.713602</td>\n",
              "      <td>6</td>\n",
              "      <td>0</td>\n",
              "      <td>894</td>\n",
              "      <td>1</td>\n",
              "    </tr>\n",
              "    <tr>\n",
              "      <th>32028</th>\n",
              "      <td>a1Q7R00000a302dUAA</td>\n",
              "      <td>2021-05-06</td>\n",
              "      <td>7.809509e+09</td>\n",
              "      <td>5</td>\n",
              "      <td>1</td>\n",
              "      <td>NaN</td>\n",
              "      <td>NaN</td>\n",
              "      <td>NaN</td>\n",
              "      <td>NaN</td>\n",
              "      <td>5.0</td>\n",
              "      <td>...</td>\n",
              "      <td>4.583333</td>\n",
              "      <td>0.900337</td>\n",
              "      <td>6</td>\n",
              "      <td>5</td>\n",
              "      <td>4.0</td>\n",
              "      <td>0.000000</td>\n",
              "      <td>4</td>\n",
              "      <td>4</td>\n",
              "      <td>1498</td>\n",
              "      <td>0</td>\n",
              "    </tr>\n",
              "    <tr>\n",
              "      <th>32029</th>\n",
              "      <td>a1Q7R00000aBD7ZUAW</td>\n",
              "      <td>2021-08-11</td>\n",
              "      <td>3.093873e+09</td>\n",
              "      <td>5</td>\n",
              "      <td>1</td>\n",
              "      <td>NaN</td>\n",
              "      <td>NaN</td>\n",
              "      <td>NaN</td>\n",
              "      <td>NaN</td>\n",
              "      <td>10.0</td>\n",
              "      <td>...</td>\n",
              "      <td>3.000000</td>\n",
              "      <td>0.000000</td>\n",
              "      <td>3</td>\n",
              "      <td>3</td>\n",
              "      <td>1.0</td>\n",
              "      <td>0.000000</td>\n",
              "      <td>1</td>\n",
              "      <td>1</td>\n",
              "      <td>1498</td>\n",
              "      <td>0</td>\n",
              "    </tr>\n",
              "    <tr>\n",
              "      <th>32030</th>\n",
              "      <td>a1Q7R00000c7hlPUAQ</td>\n",
              "      <td>2022-06-07</td>\n",
              "      <td>5.879529e+09</td>\n",
              "      <td>7</td>\n",
              "      <td>1</td>\n",
              "      <td>NaN</td>\n",
              "      <td>NaN</td>\n",
              "      <td>NaN</td>\n",
              "      <td>NaN</td>\n",
              "      <td>9.0</td>\n",
              "      <td>...</td>\n",
              "      <td>5.333333</td>\n",
              "      <td>0.492366</td>\n",
              "      <td>6</td>\n",
              "      <td>6</td>\n",
              "      <td>0.0</td>\n",
              "      <td>0.000000</td>\n",
              "      <td>0</td>\n",
              "      <td>0</td>\n",
              "      <td>87</td>\n",
              "      <td>1</td>\n",
              "    </tr>\n",
              "    <tr>\n",
              "      <th>32031</th>\n",
              "      <td>a1Q7R00000a32rxUAA</td>\n",
              "      <td>2021-05-24</td>\n",
              "      <td>6.881651e+09</td>\n",
              "      <td>6</td>\n",
              "      <td>1</td>\n",
              "      <td>NaN</td>\n",
              "      <td>NaN</td>\n",
              "      <td>NaN</td>\n",
              "      <td>NaN</td>\n",
              "      <td>10.0</td>\n",
              "      <td>...</td>\n",
              "      <td>1.000000</td>\n",
              "      <td>0.000000</td>\n",
              "      <td>1</td>\n",
              "      <td>1</td>\n",
              "      <td>0.0</td>\n",
              "      <td>0.000000</td>\n",
              "      <td>0</td>\n",
              "      <td>0</td>\n",
              "      <td>1498</td>\n",
              "      <td>0</td>\n",
              "    </tr>\n",
              "  </tbody>\n",
              "</table>\n",
              "<p>32032 rows × 48 columns</p>\n",
              "</div>\n",
              "    <div class=\"colab-df-buttons\">\n",
              "\n",
              "  <div class=\"colab-df-container\">\n",
              "    <button class=\"colab-df-convert\" onclick=\"convertToInteractive('df-c99e50a7-0406-46ce-9d25-5f107cd9d65d')\"\n",
              "            title=\"Convert this dataframe to an interactive table.\"\n",
              "            style=\"display:none;\">\n",
              "\n",
              "  <svg xmlns=\"http://www.w3.org/2000/svg\" height=\"24px\" viewBox=\"0 -960 960 960\">\n",
              "    <path d=\"M120-120v-720h720v720H120Zm60-500h600v-160H180v160Zm220 220h160v-160H400v160Zm0 220h160v-160H400v160ZM180-400h160v-160H180v160Zm440 0h160v-160H620v160ZM180-180h160v-160H180v160Zm440 0h160v-160H620v160Z\"/>\n",
              "  </svg>\n",
              "    </button>\n",
              "\n",
              "  <style>\n",
              "    .colab-df-container {\n",
              "      display:flex;\n",
              "      gap: 12px;\n",
              "    }\n",
              "\n",
              "    .colab-df-convert {\n",
              "      background-color: #E8F0FE;\n",
              "      border: none;\n",
              "      border-radius: 50%;\n",
              "      cursor: pointer;\n",
              "      display: none;\n",
              "      fill: #1967D2;\n",
              "      height: 32px;\n",
              "      padding: 0 0 0 0;\n",
              "      width: 32px;\n",
              "    }\n",
              "\n",
              "    .colab-df-convert:hover {\n",
              "      background-color: #E2EBFA;\n",
              "      box-shadow: 0px 1px 2px rgba(60, 64, 67, 0.3), 0px 1px 3px 1px rgba(60, 64, 67, 0.15);\n",
              "      fill: #174EA6;\n",
              "    }\n",
              "\n",
              "    .colab-df-buttons div {\n",
              "      margin-bottom: 4px;\n",
              "    }\n",
              "\n",
              "    [theme=dark] .colab-df-convert {\n",
              "      background-color: #3B4455;\n",
              "      fill: #D2E3FC;\n",
              "    }\n",
              "\n",
              "    [theme=dark] .colab-df-convert:hover {\n",
              "      background-color: #434B5C;\n",
              "      box-shadow: 0px 1px 3px 1px rgba(0, 0, 0, 0.15);\n",
              "      filter: drop-shadow(0px 1px 2px rgba(0, 0, 0, 0.3));\n",
              "      fill: #FFFFFF;\n",
              "    }\n",
              "  </style>\n",
              "\n",
              "    <script>\n",
              "      const buttonEl =\n",
              "        document.querySelector('#df-c99e50a7-0406-46ce-9d25-5f107cd9d65d button.colab-df-convert');\n",
              "      buttonEl.style.display =\n",
              "        google.colab.kernel.accessAllowed ? 'block' : 'none';\n",
              "\n",
              "      async function convertToInteractive(key) {\n",
              "        const element = document.querySelector('#df-c99e50a7-0406-46ce-9d25-5f107cd9d65d');\n",
              "        const dataTable =\n",
              "          await google.colab.kernel.invokeFunction('convertToInteractive',\n",
              "                                                    [key], {});\n",
              "        if (!dataTable) return;\n",
              "\n",
              "        const docLinkHtml = 'Like what you see? Visit the ' +\n",
              "          '<a target=\"_blank\" href=https://colab.research.google.com/notebooks/data_table.ipynb>data table notebook</a>'\n",
              "          + ' to learn more about interactive tables.';\n",
              "        element.innerHTML = '';\n",
              "        dataTable['output_type'] = 'display_data';\n",
              "        await google.colab.output.renderOutput(dataTable, element);\n",
              "        const docLink = document.createElement('div');\n",
              "        docLink.innerHTML = docLinkHtml;\n",
              "        element.appendChild(docLink);\n",
              "      }\n",
              "    </script>\n",
              "  </div>\n",
              "\n",
              "\n",
              "<div id=\"df-21c0886c-6f28-4052-a399-c4c17d89ee8b\">\n",
              "  <button class=\"colab-df-quickchart\" onclick=\"quickchart('df-21c0886c-6f28-4052-a399-c4c17d89ee8b')\"\n",
              "            title=\"Suggest charts\"\n",
              "            style=\"display:none;\">\n",
              "\n",
              "<svg xmlns=\"http://www.w3.org/2000/svg\" height=\"24px\"viewBox=\"0 0 24 24\"\n",
              "     width=\"24px\">\n",
              "    <g>\n",
              "        <path d=\"M19 3H5c-1.1 0-2 .9-2 2v14c0 1.1.9 2 2 2h14c1.1 0 2-.9 2-2V5c0-1.1-.9-2-2-2zM9 17H7v-7h2v7zm4 0h-2V7h2v10zm4 0h-2v-4h2v4z\"/>\n",
              "    </g>\n",
              "</svg>\n",
              "  </button>\n",
              "\n",
              "<style>\n",
              "  .colab-df-quickchart {\n",
              "      --bg-color: #E8F0FE;\n",
              "      --fill-color: #1967D2;\n",
              "      --hover-bg-color: #E2EBFA;\n",
              "      --hover-fill-color: #174EA6;\n",
              "      --disabled-fill-color: #AAA;\n",
              "      --disabled-bg-color: #DDD;\n",
              "  }\n",
              "\n",
              "  [theme=dark] .colab-df-quickchart {\n",
              "      --bg-color: #3B4455;\n",
              "      --fill-color: #D2E3FC;\n",
              "      --hover-bg-color: #434B5C;\n",
              "      --hover-fill-color: #FFFFFF;\n",
              "      --disabled-bg-color: #3B4455;\n",
              "      --disabled-fill-color: #666;\n",
              "  }\n",
              "\n",
              "  .colab-df-quickchart {\n",
              "    background-color: var(--bg-color);\n",
              "    border: none;\n",
              "    border-radius: 50%;\n",
              "    cursor: pointer;\n",
              "    display: none;\n",
              "    fill: var(--fill-color);\n",
              "    height: 32px;\n",
              "    padding: 0;\n",
              "    width: 32px;\n",
              "  }\n",
              "\n",
              "  .colab-df-quickchart:hover {\n",
              "    background-color: var(--hover-bg-color);\n",
              "    box-shadow: 0 1px 2px rgba(60, 64, 67, 0.3), 0 1px 3px 1px rgba(60, 64, 67, 0.15);\n",
              "    fill: var(--button-hover-fill-color);\n",
              "  }\n",
              "\n",
              "  .colab-df-quickchart-complete:disabled,\n",
              "  .colab-df-quickchart-complete:disabled:hover {\n",
              "    background-color: var(--disabled-bg-color);\n",
              "    fill: var(--disabled-fill-color);\n",
              "    box-shadow: none;\n",
              "  }\n",
              "\n",
              "  .colab-df-spinner {\n",
              "    border: 2px solid var(--fill-color);\n",
              "    border-color: transparent;\n",
              "    border-bottom-color: var(--fill-color);\n",
              "    animation:\n",
              "      spin 1s steps(1) infinite;\n",
              "  }\n",
              "\n",
              "  @keyframes spin {\n",
              "    0% {\n",
              "      border-color: transparent;\n",
              "      border-bottom-color: var(--fill-color);\n",
              "      border-left-color: var(--fill-color);\n",
              "    }\n",
              "    20% {\n",
              "      border-color: transparent;\n",
              "      border-left-color: var(--fill-color);\n",
              "      border-top-color: var(--fill-color);\n",
              "    }\n",
              "    30% {\n",
              "      border-color: transparent;\n",
              "      border-left-color: var(--fill-color);\n",
              "      border-top-color: var(--fill-color);\n",
              "      border-right-color: var(--fill-color);\n",
              "    }\n",
              "    40% {\n",
              "      border-color: transparent;\n",
              "      border-right-color: var(--fill-color);\n",
              "      border-top-color: var(--fill-color);\n",
              "    }\n",
              "    60% {\n",
              "      border-color: transparent;\n",
              "      border-right-color: var(--fill-color);\n",
              "    }\n",
              "    80% {\n",
              "      border-color: transparent;\n",
              "      border-right-color: var(--fill-color);\n",
              "      border-bottom-color: var(--fill-color);\n",
              "    }\n",
              "    90% {\n",
              "      border-color: transparent;\n",
              "      border-bottom-color: var(--fill-color);\n",
              "    }\n",
              "  }\n",
              "</style>\n",
              "\n",
              "  <script>\n",
              "    async function quickchart(key) {\n",
              "      const quickchartButtonEl =\n",
              "        document.querySelector('#' + key + ' button');\n",
              "      quickchartButtonEl.disabled = true;  // To prevent multiple clicks.\n",
              "      quickchartButtonEl.classList.add('colab-df-spinner');\n",
              "      try {\n",
              "        const charts = await google.colab.kernel.invokeFunction(\n",
              "            'suggestCharts', [key], {});\n",
              "      } catch (error) {\n",
              "        console.error('Error during call to suggestCharts:', error);\n",
              "      }\n",
              "      quickchartButtonEl.classList.remove('colab-df-spinner');\n",
              "      quickchartButtonEl.classList.add('colab-df-quickchart-complete');\n",
              "    }\n",
              "    (() => {\n",
              "      let quickchartButtonEl =\n",
              "        document.querySelector('#df-21c0886c-6f28-4052-a399-c4c17d89ee8b button');\n",
              "      quickchartButtonEl.style.display =\n",
              "        google.colab.kernel.accessAllowed ? 'block' : 'none';\n",
              "    })();\n",
              "  </script>\n",
              "</div>\n",
              "    </div>\n",
              "  </div>\n"
            ],
            "application/vnd.google.colaboratory.intrinsic+json": {
              "type": "dataframe"
            }
          },
          "metadata": {},
          "execution_count": 13
        }
      ]
    },
    {
      "cell_type": "code",
      "source": [
        "df_train[[\"application_ID\", \"decision_date\", \"province\", \"juridical_form\", \"industry_sector\", \"region\", \"geo_area\"]] = df_train[[\"application_ID\", \"decision_date\", \"province\", \"juridical_form\", \"industry_sector\", \"region\", \"geo_area\"]].astype(str)"
      ],
      "metadata": {
        "id": "PwzwzBqWtxKv"
      },
      "execution_count": null,
      "outputs": []
    },
    {
      "cell_type": "code",
      "source": [
        "len(df_train[[\"juridical_form\", \"target\"]].value_counts())"
      ],
      "metadata": {
        "colab": {
          "base_uri": "https://localhost:8080/"
        },
        "id": "iwDL_cmzpiA_",
        "outputId": "2e271346-7d62-4218-f3e7-239f392d8630"
      },
      "execution_count": 32,
      "outputs": [
        {
          "output_type": "execute_result",
          "data": {
            "text/plain": [
              "24"
            ]
          },
          "metadata": {},
          "execution_count": 32
        }
      ]
    },
    {
      "cell_type": "code",
      "source": [
        "len(df_train[\"juridical_form\"].unique())"
      ],
      "metadata": {
        "colab": {
          "base_uri": "https://localhost:8080/"
        },
        "id": "i3anxYuFuPJ_",
        "outputId": "92479d5a-4b7f-45fa-c1f4-ef5896393044"
      },
      "execution_count": 33,
      "outputs": [
        {
          "output_type": "execute_result",
          "data": {
            "text/plain": [
              "14"
            ]
          },
          "metadata": {},
          "execution_count": 33
        }
      ]
    },
    {
      "cell_type": "code",
      "source": [
        "# Drop juridical_form\n",
        "drop_columns = [\"application_ID\", \"company_ID\",\n",
        "                \"cr_available\", \"province\", \"core_income_ratio\", \"geo_area\", \"region\", \"juridical_form\", \"industry_sector\",\n",
        "                \"std_tension_a_revoca_autoliquidanti\", \"avg_tension_a_revoca_autoliquidanti\", \"last_tension_a_revoca_autoliquidanti\",\n",
        "                \"last_rel_used_a_revoca_autoliquidanti\", \"avg_rel_used_a_revoca_autoliquidanti\", \"max_rel_used_a_revoca_autoliquidanti\",\n",
        "                \"avg_rel_used_a_scadenza\", \"last_rel_used_a_scadenza\", \"max_rel_used_a_scadenza\",\n",
        "                \"avg_count_enti_affidanti\", \"last_count_enti_affidanti\" , \"max_count_enti_affidanti\",\n",
        "                \"std_count_numero_prima_info\", \"last_count_numero_prima_info\", \"avg_count_numero_prima_info\",\n",
        "                \"days_to_deafult\", \"cr_available\"]"
      ],
      "metadata": {
        "id": "Ok8ZGlQrvkeA"
      },
      "execution_count": 49,
      "outputs": []
    },
    {
      "cell_type": "code",
      "source": [
        "len(drop_columns)"
      ],
      "metadata": {
        "colab": {
          "base_uri": "https://localhost:8080/"
        },
        "id": "8nTr8dRP-O1O",
        "outputId": "3846b1d2-fa85-44ad-d022-6e33dcba343e"
      },
      "execution_count": 50,
      "outputs": [
        {
          "output_type": "execute_result",
          "data": {
            "text/plain": [
              "26"
            ]
          },
          "metadata": {},
          "execution_count": 50
        }
      ]
    },
    {
      "cell_type": "code",
      "source": [
        "location_features = [\"province\", \"region\", \"geo_area\", \"industry_sector\"]"
      ],
      "metadata": {
        "id": "XiUeoZntvmmQ"
      },
      "execution_count": 42,
      "outputs": []
    },
    {
      "cell_type": "code",
      "source": [
        "print(len(df_train.columns))\n",
        "print(len(df_test.columns))"
      ],
      "metadata": {
        "colab": {
          "base_uri": "https://localhost:8080/"
        },
        "id": "1mN5_QDs2Sn2",
        "outputId": "a586c5db-3c44-4199-c0ca-49e737256273"
      },
      "execution_count": 40,
      "outputs": [
        {
          "output_type": "stream",
          "name": "stdout",
          "text": [
            "48\n",
            "46\n"
          ]
        }
      ]
    },
    {
      "cell_type": "code",
      "source": [
        "for column in location_features:\n",
        "  province_target_freq = df_train.groupby([column, 'target']).size().unstack(fill_value=0)\n",
        "  # Plotting\n",
        "  plt.figure(figsize=(10, 6))\n",
        "  province_target_freq.plot(kind='bar', stacked=True)\n",
        "  plt.xlabel(column)\n",
        "  plt.ylabel('Frequency')\n",
        "  plt.title('Frequency of Target Classes by ' + column)\n",
        "  plt.xticks(rotation=45)  # Rotate x-axis labels for better readability\n",
        "  plt.legend(title='Target', labels=['Class 0', 'Class 1'])\n",
        "  plt.tight_layout()\n",
        "  plt.show()"
      ],
      "metadata": {
        "id": "SIPbo1RM4b16"
      },
      "execution_count": null,
      "outputs": []
    },
    {
      "cell_type": "markdown",
      "source": [
        "# PCA on Dropped dataset"
      ],
      "metadata": {
        "id": "i1DExUzECNly"
      }
    },
    {
      "cell_type": "code",
      "source": [
        "!pip install lightgbm imbalanced-learn"
      ],
      "metadata": {
        "colab": {
          "base_uri": "https://localhost:8080/"
        },
        "id": "EHTpD5nQLGP3",
        "outputId": "fe30aa51-bbba-4758-d3b1-9d87ce1b0aed"
      },
      "execution_count": 6,
      "outputs": [
        {
          "output_type": "stream",
          "name": "stdout",
          "text": [
            "Requirement already satisfied: lightgbm in /usr/local/lib/python3.10/dist-packages (4.1.0)\n",
            "Requirement already satisfied: imbalanced-learn in /usr/local/lib/python3.10/dist-packages (0.10.1)\n",
            "Requirement already satisfied: numpy in /usr/local/lib/python3.10/dist-packages (from lightgbm) (1.25.2)\n",
            "Requirement already satisfied: scipy in /usr/local/lib/python3.10/dist-packages (from lightgbm) (1.11.4)\n",
            "Requirement already satisfied: scikit-learn>=1.0.2 in /usr/local/lib/python3.10/dist-packages (from imbalanced-learn) (1.2.2)\n",
            "Requirement already satisfied: joblib>=1.1.1 in /usr/local/lib/python3.10/dist-packages (from imbalanced-learn) (1.3.2)\n",
            "Requirement already satisfied: threadpoolctl>=2.0.0 in /usr/local/lib/python3.10/dist-packages (from imbalanced-learn) (3.3.0)\n"
          ]
        }
      ]
    },
    {
      "cell_type": "code",
      "source": [
        "df_dropped = pd.read_csv(\"data/dropped.csv\")"
      ],
      "metadata": {
        "id": "z5i3XCqGATMS"
      },
      "execution_count": 11,
      "outputs": []
    },
    {
      "cell_type": "code",
      "source": [
        "from sklearn.decomposition import PCA\n",
        "from sklearn_pandas import DataFrameMapper\n",
        "from sklearn.preprocessing import StandardScaler\n",
        "from sklearn.ensemble import RandomForestClassifier\n",
        "from sklearn.model_selection import train_test_split\n",
        "from sklearn.metrics import accuracy_score\n",
        "from sklearn.metrics import f1_score\n",
        "from sklearn.linear_model import SGDClassifier\n",
        "\n",
        "import lightgbm as lgb\n",
        "from imblearn.under_sampling import RandomUnderSampler"
      ],
      "metadata": {
        "id": "dTOTYrsgClid"
      },
      "execution_count": 7,
      "outputs": []
    },
    {
      "cell_type": "code",
      "source": [
        "train_columns = ['external_score_ver01',\n",
        "       'external_score_ver02', 'late_payment_score',\n",
        "       'external_score_late_payment_integrated', 'external_score_moderate',\n",
        "       'external_score_adverse', 'external_score_ver03', 'age',\n",
        "       'gross_margin_ratio', 'cash_asset_ratio',\n",
        "       'consolidated_liabilities_ratio', 'tangible_assets_ratio', 'revenues',\n",
        "       'last_statement_age', 'overrun_freq_a_revoca_autoliquidanti',\n",
        "       'max_tension_a_revoca_autoliquidanti',\n",
        "       'std_rel_used_a_revoca_autoliquidanti', 'overrun_freq_a_scadenza',\n",
        "       'std_rel_used_a_scadenza', 'std_count_enti_affidanti',\n",
        "       'max_count_numero_prima_info', 'decision_month']"
      ],
      "metadata": {
        "id": "3tRZWdRgDKR-"
      },
      "execution_count": 9,
      "outputs": []
    },
    {
      "cell_type": "code",
      "source": [
        "mapper = DataFrameMapper([(pca_columns, StandardScaler())])\n",
        "scaled_features = mapper.fit_transform(df_dropped[pca_columns].copy(), len(pca_columns))\n",
        "concatDatasetScaled = pd.DataFrame(scaled_features, index=df_dropped[pca_columns].index, columns=pca_columns)"
      ],
      "metadata": {
        "id": "momtmDkKEy99"
      },
      "execution_count": 88,
      "outputs": []
    },
    {
      "cell_type": "code",
      "source": [
        "# to avoid overfitting\n",
        "pca = PCA(n_components = 13)\n",
        "\n",
        "pca_array = pca.fit_transform(concatDatasetScaled)\n",
        "\n",
        "df_pca = pd.DataFrame(pca_array)\n",
        "\n",
        "# df_dropped[['principal_component_1', 'principal_component_2']] = pca.fit_transform(concatDatasetScaled)"
      ],
      "metadata": {
        "id": "6DM9Qt89C3_g"
      },
      "execution_count": 103,
      "outputs": []
    },
    {
      "cell_type": "code",
      "source": [
        "df_pca"
      ],
      "metadata": {
        "id": "1sv6UmA1IA2C"
      },
      "execution_count": null,
      "outputs": []
    },
    {
      "cell_type": "code",
      "source": [
        "df_pca_concat = pd.concat([df_pca, df_dropped.target], axis = 1)"
      ],
      "metadata": {
        "id": "jvyFlGKJH2oP"
      },
      "execution_count": 105,
      "outputs": []
    },
    {
      "cell_type": "code",
      "source": [
        "df_pca_concat"
      ],
      "metadata": {
        "colab": {
          "base_uri": "https://localhost:8080/",
          "height": 444
        },
        "id": "xAyWH5WIIh3E",
        "outputId": "feca05bd-bace-4081-d4e0-c3220a27af52"
      },
      "execution_count": 107,
      "outputs": [
        {
          "output_type": "execute_result",
          "data": {
            "text/plain": [
              "              0         1         2         3         4         5         6  \\\n",
              "0     -0.927900 -1.031397  1.232668 -1.385582  0.365556 -0.833498 -0.379105   \n",
              "1     -0.291559 -1.438432 -0.091433  0.068247 -0.219611  0.582989  0.175772   \n",
              "2     -0.382030 -1.725135 -0.403738  0.788630 -0.380722  0.604955 -0.445112   \n",
              "3     -0.134068 -0.993284 -0.111947  2.105197 -0.908539 -0.011098  0.462913   \n",
              "4      0.660255 -0.563257 -1.165842 -0.154215  0.017037 -0.479759  0.035812   \n",
              "...         ...       ...       ...       ...       ...       ...       ...   \n",
              "32027 -0.097037  2.729446  0.520108  1.290315 -0.443590  2.482005  0.293427   \n",
              "32028  0.168361  3.096407  1.882935  0.934736 -0.068319  0.771437  1.206925   \n",
              "32029  0.541933  0.249750 -0.856460 -0.878459  0.538674 -0.306570  0.438554   \n",
              "32030  0.062916  0.649519  0.197252  0.343325 -0.273125 -0.201872 -0.655236   \n",
              "32031  0.258954 -1.116129 -0.779401  0.455897 -0.240135 -0.283853  0.056595   \n",
              "\n",
              "              7         8         9        10        11        12  target  \n",
              "0      1.235146 -0.397577 -0.104046 -0.652859  0.509002 -0.400694       1  \n",
              "1      0.906724  0.003847 -0.636541  0.137123  0.531271 -0.335725       0  \n",
              "2     -1.246649  0.033274 -0.168543 -0.316494  0.679774 -0.009266       1  \n",
              "3     -0.880258 -0.041442 -1.022167 -0.749733 -1.237315 -0.283411       0  \n",
              "4     -0.318406 -0.111523  1.196868 -0.226981 -0.128638  0.567926       0  \n",
              "...         ...       ...       ...       ...       ...       ...     ...  \n",
              "32027 -1.339436  0.662690 -1.276025 -0.501409 -1.437287 -1.292676       1  \n",
              "32028 -1.226184  1.030722  0.838494  4.347766  0.698748  0.245133       0  \n",
              "32029 -0.432679 -0.075383  0.469970 -0.285142 -0.687464  0.421721       0  \n",
              "32030 -0.722373 -0.092184  0.864158 -0.309595 -0.443515  0.272228       1  \n",
              "32031 -0.176462 -0.130509  0.469276 -0.314701  0.809917  0.978735       0  \n",
              "\n",
              "[32032 rows x 14 columns]"
            ],
            "text/html": [
              "\n",
              "  <div id=\"df-3c9d7081-12e5-424b-a0a1-3952c897d789\" class=\"colab-df-container\">\n",
              "    <div>\n",
              "<style scoped>\n",
              "    .dataframe tbody tr th:only-of-type {\n",
              "        vertical-align: middle;\n",
              "    }\n",
              "\n",
              "    .dataframe tbody tr th {\n",
              "        vertical-align: top;\n",
              "    }\n",
              "\n",
              "    .dataframe thead th {\n",
              "        text-align: right;\n",
              "    }\n",
              "</style>\n",
              "<table border=\"1\" class=\"dataframe\">\n",
              "  <thead>\n",
              "    <tr style=\"text-align: right;\">\n",
              "      <th></th>\n",
              "      <th>0</th>\n",
              "      <th>1</th>\n",
              "      <th>2</th>\n",
              "      <th>3</th>\n",
              "      <th>4</th>\n",
              "      <th>5</th>\n",
              "      <th>6</th>\n",
              "      <th>7</th>\n",
              "      <th>8</th>\n",
              "      <th>9</th>\n",
              "      <th>10</th>\n",
              "      <th>11</th>\n",
              "      <th>12</th>\n",
              "      <th>target</th>\n",
              "    </tr>\n",
              "  </thead>\n",
              "  <tbody>\n",
              "    <tr>\n",
              "      <th>0</th>\n",
              "      <td>-0.927900</td>\n",
              "      <td>-1.031397</td>\n",
              "      <td>1.232668</td>\n",
              "      <td>-1.385582</td>\n",
              "      <td>0.365556</td>\n",
              "      <td>-0.833498</td>\n",
              "      <td>-0.379105</td>\n",
              "      <td>1.235146</td>\n",
              "      <td>-0.397577</td>\n",
              "      <td>-0.104046</td>\n",
              "      <td>-0.652859</td>\n",
              "      <td>0.509002</td>\n",
              "      <td>-0.400694</td>\n",
              "      <td>1</td>\n",
              "    </tr>\n",
              "    <tr>\n",
              "      <th>1</th>\n",
              "      <td>-0.291559</td>\n",
              "      <td>-1.438432</td>\n",
              "      <td>-0.091433</td>\n",
              "      <td>0.068247</td>\n",
              "      <td>-0.219611</td>\n",
              "      <td>0.582989</td>\n",
              "      <td>0.175772</td>\n",
              "      <td>0.906724</td>\n",
              "      <td>0.003847</td>\n",
              "      <td>-0.636541</td>\n",
              "      <td>0.137123</td>\n",
              "      <td>0.531271</td>\n",
              "      <td>-0.335725</td>\n",
              "      <td>0</td>\n",
              "    </tr>\n",
              "    <tr>\n",
              "      <th>2</th>\n",
              "      <td>-0.382030</td>\n",
              "      <td>-1.725135</td>\n",
              "      <td>-0.403738</td>\n",
              "      <td>0.788630</td>\n",
              "      <td>-0.380722</td>\n",
              "      <td>0.604955</td>\n",
              "      <td>-0.445112</td>\n",
              "      <td>-1.246649</td>\n",
              "      <td>0.033274</td>\n",
              "      <td>-0.168543</td>\n",
              "      <td>-0.316494</td>\n",
              "      <td>0.679774</td>\n",
              "      <td>-0.009266</td>\n",
              "      <td>1</td>\n",
              "    </tr>\n",
              "    <tr>\n",
              "      <th>3</th>\n",
              "      <td>-0.134068</td>\n",
              "      <td>-0.993284</td>\n",
              "      <td>-0.111947</td>\n",
              "      <td>2.105197</td>\n",
              "      <td>-0.908539</td>\n",
              "      <td>-0.011098</td>\n",
              "      <td>0.462913</td>\n",
              "      <td>-0.880258</td>\n",
              "      <td>-0.041442</td>\n",
              "      <td>-1.022167</td>\n",
              "      <td>-0.749733</td>\n",
              "      <td>-1.237315</td>\n",
              "      <td>-0.283411</td>\n",
              "      <td>0</td>\n",
              "    </tr>\n",
              "    <tr>\n",
              "      <th>4</th>\n",
              "      <td>0.660255</td>\n",
              "      <td>-0.563257</td>\n",
              "      <td>-1.165842</td>\n",
              "      <td>-0.154215</td>\n",
              "      <td>0.017037</td>\n",
              "      <td>-0.479759</td>\n",
              "      <td>0.035812</td>\n",
              "      <td>-0.318406</td>\n",
              "      <td>-0.111523</td>\n",
              "      <td>1.196868</td>\n",
              "      <td>-0.226981</td>\n",
              "      <td>-0.128638</td>\n",
              "      <td>0.567926</td>\n",
              "      <td>0</td>\n",
              "    </tr>\n",
              "    <tr>\n",
              "      <th>...</th>\n",
              "      <td>...</td>\n",
              "      <td>...</td>\n",
              "      <td>...</td>\n",
              "      <td>...</td>\n",
              "      <td>...</td>\n",
              "      <td>...</td>\n",
              "      <td>...</td>\n",
              "      <td>...</td>\n",
              "      <td>...</td>\n",
              "      <td>...</td>\n",
              "      <td>...</td>\n",
              "      <td>...</td>\n",
              "      <td>...</td>\n",
              "      <td>...</td>\n",
              "    </tr>\n",
              "    <tr>\n",
              "      <th>32027</th>\n",
              "      <td>-0.097037</td>\n",
              "      <td>2.729446</td>\n",
              "      <td>0.520108</td>\n",
              "      <td>1.290315</td>\n",
              "      <td>-0.443590</td>\n",
              "      <td>2.482005</td>\n",
              "      <td>0.293427</td>\n",
              "      <td>-1.339436</td>\n",
              "      <td>0.662690</td>\n",
              "      <td>-1.276025</td>\n",
              "      <td>-0.501409</td>\n",
              "      <td>-1.437287</td>\n",
              "      <td>-1.292676</td>\n",
              "      <td>1</td>\n",
              "    </tr>\n",
              "    <tr>\n",
              "      <th>32028</th>\n",
              "      <td>0.168361</td>\n",
              "      <td>3.096407</td>\n",
              "      <td>1.882935</td>\n",
              "      <td>0.934736</td>\n",
              "      <td>-0.068319</td>\n",
              "      <td>0.771437</td>\n",
              "      <td>1.206925</td>\n",
              "      <td>-1.226184</td>\n",
              "      <td>1.030722</td>\n",
              "      <td>0.838494</td>\n",
              "      <td>4.347766</td>\n",
              "      <td>0.698748</td>\n",
              "      <td>0.245133</td>\n",
              "      <td>0</td>\n",
              "    </tr>\n",
              "    <tr>\n",
              "      <th>32029</th>\n",
              "      <td>0.541933</td>\n",
              "      <td>0.249750</td>\n",
              "      <td>-0.856460</td>\n",
              "      <td>-0.878459</td>\n",
              "      <td>0.538674</td>\n",
              "      <td>-0.306570</td>\n",
              "      <td>0.438554</td>\n",
              "      <td>-0.432679</td>\n",
              "      <td>-0.075383</td>\n",
              "      <td>0.469970</td>\n",
              "      <td>-0.285142</td>\n",
              "      <td>-0.687464</td>\n",
              "      <td>0.421721</td>\n",
              "      <td>0</td>\n",
              "    </tr>\n",
              "    <tr>\n",
              "      <th>32030</th>\n",
              "      <td>0.062916</td>\n",
              "      <td>0.649519</td>\n",
              "      <td>0.197252</td>\n",
              "      <td>0.343325</td>\n",
              "      <td>-0.273125</td>\n",
              "      <td>-0.201872</td>\n",
              "      <td>-0.655236</td>\n",
              "      <td>-0.722373</td>\n",
              "      <td>-0.092184</td>\n",
              "      <td>0.864158</td>\n",
              "      <td>-0.309595</td>\n",
              "      <td>-0.443515</td>\n",
              "      <td>0.272228</td>\n",
              "      <td>1</td>\n",
              "    </tr>\n",
              "    <tr>\n",
              "      <th>32031</th>\n",
              "      <td>0.258954</td>\n",
              "      <td>-1.116129</td>\n",
              "      <td>-0.779401</td>\n",
              "      <td>0.455897</td>\n",
              "      <td>-0.240135</td>\n",
              "      <td>-0.283853</td>\n",
              "      <td>0.056595</td>\n",
              "      <td>-0.176462</td>\n",
              "      <td>-0.130509</td>\n",
              "      <td>0.469276</td>\n",
              "      <td>-0.314701</td>\n",
              "      <td>0.809917</td>\n",
              "      <td>0.978735</td>\n",
              "      <td>0</td>\n",
              "    </tr>\n",
              "  </tbody>\n",
              "</table>\n",
              "<p>32032 rows × 14 columns</p>\n",
              "</div>\n",
              "    <div class=\"colab-df-buttons\">\n",
              "\n",
              "  <div class=\"colab-df-container\">\n",
              "    <button class=\"colab-df-convert\" onclick=\"convertToInteractive('df-3c9d7081-12e5-424b-a0a1-3952c897d789')\"\n",
              "            title=\"Convert this dataframe to an interactive table.\"\n",
              "            style=\"display:none;\">\n",
              "\n",
              "  <svg xmlns=\"http://www.w3.org/2000/svg\" height=\"24px\" viewBox=\"0 -960 960 960\">\n",
              "    <path d=\"M120-120v-720h720v720H120Zm60-500h600v-160H180v160Zm220 220h160v-160H400v160Zm0 220h160v-160H400v160ZM180-400h160v-160H180v160Zm440 0h160v-160H620v160ZM180-180h160v-160H180v160Zm440 0h160v-160H620v160Z\"/>\n",
              "  </svg>\n",
              "    </button>\n",
              "\n",
              "  <style>\n",
              "    .colab-df-container {\n",
              "      display:flex;\n",
              "      gap: 12px;\n",
              "    }\n",
              "\n",
              "    .colab-df-convert {\n",
              "      background-color: #E8F0FE;\n",
              "      border: none;\n",
              "      border-radius: 50%;\n",
              "      cursor: pointer;\n",
              "      display: none;\n",
              "      fill: #1967D2;\n",
              "      height: 32px;\n",
              "      padding: 0 0 0 0;\n",
              "      width: 32px;\n",
              "    }\n",
              "\n",
              "    .colab-df-convert:hover {\n",
              "      background-color: #E2EBFA;\n",
              "      box-shadow: 0px 1px 2px rgba(60, 64, 67, 0.3), 0px 1px 3px 1px rgba(60, 64, 67, 0.15);\n",
              "      fill: #174EA6;\n",
              "    }\n",
              "\n",
              "    .colab-df-buttons div {\n",
              "      margin-bottom: 4px;\n",
              "    }\n",
              "\n",
              "    [theme=dark] .colab-df-convert {\n",
              "      background-color: #3B4455;\n",
              "      fill: #D2E3FC;\n",
              "    }\n",
              "\n",
              "    [theme=dark] .colab-df-convert:hover {\n",
              "      background-color: #434B5C;\n",
              "      box-shadow: 0px 1px 3px 1px rgba(0, 0, 0, 0.15);\n",
              "      filter: drop-shadow(0px 1px 2px rgba(0, 0, 0, 0.3));\n",
              "      fill: #FFFFFF;\n",
              "    }\n",
              "  </style>\n",
              "\n",
              "    <script>\n",
              "      const buttonEl =\n",
              "        document.querySelector('#df-3c9d7081-12e5-424b-a0a1-3952c897d789 button.colab-df-convert');\n",
              "      buttonEl.style.display =\n",
              "        google.colab.kernel.accessAllowed ? 'block' : 'none';\n",
              "\n",
              "      async function convertToInteractive(key) {\n",
              "        const element = document.querySelector('#df-3c9d7081-12e5-424b-a0a1-3952c897d789');\n",
              "        const dataTable =\n",
              "          await google.colab.kernel.invokeFunction('convertToInteractive',\n",
              "                                                    [key], {});\n",
              "        if (!dataTable) return;\n",
              "\n",
              "        const docLinkHtml = 'Like what you see? Visit the ' +\n",
              "          '<a target=\"_blank\" href=https://colab.research.google.com/notebooks/data_table.ipynb>data table notebook</a>'\n",
              "          + ' to learn more about interactive tables.';\n",
              "        element.innerHTML = '';\n",
              "        dataTable['output_type'] = 'display_data';\n",
              "        await google.colab.output.renderOutput(dataTable, element);\n",
              "        const docLink = document.createElement('div');\n",
              "        docLink.innerHTML = docLinkHtml;\n",
              "        element.appendChild(docLink);\n",
              "      }\n",
              "    </script>\n",
              "  </div>\n",
              "\n",
              "\n",
              "<div id=\"df-d0c6db41-ade0-4216-9c9e-2b121bff3732\">\n",
              "  <button class=\"colab-df-quickchart\" onclick=\"quickchart('df-d0c6db41-ade0-4216-9c9e-2b121bff3732')\"\n",
              "            title=\"Suggest charts\"\n",
              "            style=\"display:none;\">\n",
              "\n",
              "<svg xmlns=\"http://www.w3.org/2000/svg\" height=\"24px\"viewBox=\"0 0 24 24\"\n",
              "     width=\"24px\">\n",
              "    <g>\n",
              "        <path d=\"M19 3H5c-1.1 0-2 .9-2 2v14c0 1.1.9 2 2 2h14c1.1 0 2-.9 2-2V5c0-1.1-.9-2-2-2zM9 17H7v-7h2v7zm4 0h-2V7h2v10zm4 0h-2v-4h2v4z\"/>\n",
              "    </g>\n",
              "</svg>\n",
              "  </button>\n",
              "\n",
              "<style>\n",
              "  .colab-df-quickchart {\n",
              "      --bg-color: #E8F0FE;\n",
              "      --fill-color: #1967D2;\n",
              "      --hover-bg-color: #E2EBFA;\n",
              "      --hover-fill-color: #174EA6;\n",
              "      --disabled-fill-color: #AAA;\n",
              "      --disabled-bg-color: #DDD;\n",
              "  }\n",
              "\n",
              "  [theme=dark] .colab-df-quickchart {\n",
              "      --bg-color: #3B4455;\n",
              "      --fill-color: #D2E3FC;\n",
              "      --hover-bg-color: #434B5C;\n",
              "      --hover-fill-color: #FFFFFF;\n",
              "      --disabled-bg-color: #3B4455;\n",
              "      --disabled-fill-color: #666;\n",
              "  }\n",
              "\n",
              "  .colab-df-quickchart {\n",
              "    background-color: var(--bg-color);\n",
              "    border: none;\n",
              "    border-radius: 50%;\n",
              "    cursor: pointer;\n",
              "    display: none;\n",
              "    fill: var(--fill-color);\n",
              "    height: 32px;\n",
              "    padding: 0;\n",
              "    width: 32px;\n",
              "  }\n",
              "\n",
              "  .colab-df-quickchart:hover {\n",
              "    background-color: var(--hover-bg-color);\n",
              "    box-shadow: 0 1px 2px rgba(60, 64, 67, 0.3), 0 1px 3px 1px rgba(60, 64, 67, 0.15);\n",
              "    fill: var(--button-hover-fill-color);\n",
              "  }\n",
              "\n",
              "  .colab-df-quickchart-complete:disabled,\n",
              "  .colab-df-quickchart-complete:disabled:hover {\n",
              "    background-color: var(--disabled-bg-color);\n",
              "    fill: var(--disabled-fill-color);\n",
              "    box-shadow: none;\n",
              "  }\n",
              "\n",
              "  .colab-df-spinner {\n",
              "    border: 2px solid var(--fill-color);\n",
              "    border-color: transparent;\n",
              "    border-bottom-color: var(--fill-color);\n",
              "    animation:\n",
              "      spin 1s steps(1) infinite;\n",
              "  }\n",
              "\n",
              "  @keyframes spin {\n",
              "    0% {\n",
              "      border-color: transparent;\n",
              "      border-bottom-color: var(--fill-color);\n",
              "      border-left-color: var(--fill-color);\n",
              "    }\n",
              "    20% {\n",
              "      border-color: transparent;\n",
              "      border-left-color: var(--fill-color);\n",
              "      border-top-color: var(--fill-color);\n",
              "    }\n",
              "    30% {\n",
              "      border-color: transparent;\n",
              "      border-left-color: var(--fill-color);\n",
              "      border-top-color: var(--fill-color);\n",
              "      border-right-color: var(--fill-color);\n",
              "    }\n",
              "    40% {\n",
              "      border-color: transparent;\n",
              "      border-right-color: var(--fill-color);\n",
              "      border-top-color: var(--fill-color);\n",
              "    }\n",
              "    60% {\n",
              "      border-color: transparent;\n",
              "      border-right-color: var(--fill-color);\n",
              "    }\n",
              "    80% {\n",
              "      border-color: transparent;\n",
              "      border-right-color: var(--fill-color);\n",
              "      border-bottom-color: var(--fill-color);\n",
              "    }\n",
              "    90% {\n",
              "      border-color: transparent;\n",
              "      border-bottom-color: var(--fill-color);\n",
              "    }\n",
              "  }\n",
              "</style>\n",
              "\n",
              "  <script>\n",
              "    async function quickchart(key) {\n",
              "      const quickchartButtonEl =\n",
              "        document.querySelector('#' + key + ' button');\n",
              "      quickchartButtonEl.disabled = true;  // To prevent multiple clicks.\n",
              "      quickchartButtonEl.classList.add('colab-df-spinner');\n",
              "      try {\n",
              "        const charts = await google.colab.kernel.invokeFunction(\n",
              "            'suggestCharts', [key], {});\n",
              "      } catch (error) {\n",
              "        console.error('Error during call to suggestCharts:', error);\n",
              "      }\n",
              "      quickchartButtonEl.classList.remove('colab-df-spinner');\n",
              "      quickchartButtonEl.classList.add('colab-df-quickchart-complete');\n",
              "    }\n",
              "    (() => {\n",
              "      let quickchartButtonEl =\n",
              "        document.querySelector('#df-d0c6db41-ade0-4216-9c9e-2b121bff3732 button');\n",
              "      quickchartButtonEl.style.display =\n",
              "        google.colab.kernel.accessAllowed ? 'block' : 'none';\n",
              "    })();\n",
              "  </script>\n",
              "</div>\n",
              "    </div>\n",
              "  </div>\n"
            ],
            "application/vnd.google.colaboratory.intrinsic+json": {
              "type": "dataframe",
              "variable_name": "df_pca_concat",
              "summary": "{\n  \"name\": \"df_pca_concat\",\n  \"rows\": 32032,\n  \"fields\": [\n    {\n      \"column\": 0,\n      \"properties\": {\n        \"dtype\": \"number\",\n        \"std\": 1.7176069988913587,\n        \"min\": -11.219943275397021,\n        \"max\": 16.147893088100776,\n        \"num_unique_values\": 31742,\n        \"samples\": [\n          0.6396186881311702,\n          -0.4890344552526325,\n          -5.547469586767214\n        ],\n        \"semantic_type\": \"\",\n        \"description\": \"\"\n      }\n    },\n    {\n      \"column\": 1,\n      \"properties\": {\n        \"dtype\": \"number\",\n        \"std\": 1.4935334391461677,\n        \"min\": -5.22215503783987,\n        \"max\": 14.109493167645647,\n        \"num_unique_values\": 31741,\n        \"samples\": [\n          -0.15240652663414772,\n          -2.194136775274831,\n          2.032666992015286\n        ],\n        \"semantic_type\": \"\",\n        \"description\": \"\"\n      }\n    },\n    {\n      \"column\": 2,\n      \"properties\": {\n        \"dtype\": \"number\",\n        \"std\": 1.4184623686822082,\n        \"min\": -6.51562327894187,\n        \"max\": 7.39530541035477,\n        \"num_unique_values\": 31742,\n        \"samples\": [\n          -1.4797168726452397,\n          -0.09383232788237819,\n          -2.552711475257053\n        ],\n        \"semantic_type\": \"\",\n        \"description\": \"\"\n      }\n    },\n    {\n      \"column\": 3,\n      \"properties\": {\n        \"dtype\": \"number\",\n        \"std\": 1.1980809469663225,\n        \"min\": -2.707853545969288,\n        \"max\": 31.067308924844934,\n        \"num_unique_values\": 31742,\n        \"samples\": [\n          -0.9377082571855427,\n          0.03851736120660189,\n          1.2353474508065139\n        ],\n        \"semantic_type\": \"\",\n        \"description\": \"\"\n      }\n    },\n    {\n      \"column\": 4,\n      \"properties\": {\n        \"dtype\": \"number\",\n        \"std\": 1.1841165293595994,\n        \"min\": -3.8100571657367546,\n        \"max\": 54.86861802358002,\n        \"num_unique_values\": 31743,\n        \"samples\": [\n          0.8305743263373522,\n          -1.3210746608043535,\n          -0.9437800829921825\n        ],\n        \"semantic_type\": \"\",\n        \"description\": \"\"\n      }\n    },\n    {\n      \"column\": 5,\n      \"properties\": {\n        \"dtype\": \"number\",\n        \"std\": 1.1172234018992213,\n        \"min\": -6.469127851272743,\n        \"max\": 8.617549902056728,\n        \"num_unique_values\": 31742,\n        \"samples\": [\n          -0.6754724449644169,\n          0.5357385912956746,\n          1.349583776773607\n        ],\n        \"semantic_type\": \"\",\n        \"description\": \"\"\n      }\n    },\n    {\n      \"column\": 6,\n      \"properties\": {\n        \"dtype\": \"number\",\n        \"std\": 1.0841583101267507,\n        \"min\": -6.459253861262781,\n        \"max\": 9.979953381110189,\n        \"num_unique_values\": 31742,\n        \"samples\": [\n          0.2953905008717355,\n          0.16757062933687644,\n          1.3106093297690249\n        ],\n        \"semantic_type\": \"\",\n        \"description\": \"\"\n      }\n    },\n    {\n      \"column\": 7,\n      \"properties\": {\n        \"dtype\": \"number\",\n        \"std\": 1.0156880394356893,\n        \"min\": -7.124387583423508,\n        \"max\": 10.501902881591864,\n        \"num_unique_values\": 31742,\n        \"samples\": [\n          -1.511270097754391,\n          0.09260068216481748,\n          0.6473565271070976\n        ],\n        \"semantic_type\": \"\",\n        \"description\": \"\"\n      }\n    },\n    {\n      \"column\": 8,\n      \"properties\": {\n        \"dtype\": \"number\",\n        \"std\": 1.010692020130649,\n        \"min\": -8.253381675954376,\n        \"max\": 11.370533490674433,\n        \"num_unique_values\": 31742,\n        \"samples\": [\n          -0.17041842036369614,\n          0.012774789181340219,\n          -2.2087380361252187\n        ],\n        \"semantic_type\": \"\",\n        \"description\": \"\"\n      }\n    },\n    {\n      \"column\": 9,\n      \"properties\": {\n        \"dtype\": \"number\",\n        \"std\": 0.9676618948963887,\n        \"min\": -12.255664929705157,\n        \"max\": 17.325918125989393,\n        \"num_unique_values\": 31743,\n        \"samples\": [\n          0.3513823854023596,\n          3.977383715881204,\n          1.5327516860047445\n        ],\n        \"semantic_type\": \"\",\n        \"description\": \"\"\n      }\n    },\n    {\n      \"column\": 10,\n      \"properties\": {\n        \"dtype\": \"number\",\n        \"std\": 0.9410435942044759,\n        \"min\": -7.323115579450046,\n        \"max\": 7.943842909219134,\n        \"num_unique_values\": 31742,\n        \"samples\": [\n          -0.8888772698717162,\n          -0.5646241104720047,\n          0.06983243174037587\n        ],\n        \"semantic_type\": \"\",\n        \"description\": \"\"\n      }\n    },\n    {\n      \"column\": 11,\n      \"properties\": {\n        \"dtype\": \"number\",\n        \"std\": 0.896193666022368,\n        \"min\": -3.9462717755565015,\n        \"max\": 17.534196733146718,\n        \"num_unique_values\": 31743,\n        \"samples\": [\n          0.16112169471190843,\n          -1.1669045367931254,\n          -0.47638408715889236\n        ],\n        \"semantic_type\": \"\",\n        \"description\": \"\"\n      }\n    },\n    {\n      \"column\": 12,\n      \"properties\": {\n        \"dtype\": \"number\",\n        \"std\": 0.8468159698867336,\n        \"min\": -3.9235598933738838,\n        \"max\": 16.589242005484735,\n        \"num_unique_values\": 31743,\n        \"samples\": [\n          0.3146902227841686,\n          -1.0040184335968685,\n          -0.8692008514870861\n        ],\n        \"semantic_type\": \"\",\n        \"description\": \"\"\n      }\n    },\n    {\n      \"column\": \"target\",\n      \"properties\": {\n        \"dtype\": \"number\",\n        \"std\": 0,\n        \"min\": 0,\n        \"max\": 1,\n        \"num_unique_values\": 2,\n        \"samples\": [\n          0,\n          1\n        ],\n        \"semantic_type\": \"\",\n        \"description\": \"\"\n      }\n    }\n  ]\n}"
            }
          },
          "metadata": {},
          "execution_count": 107
        }
      ]
    },
    {
      "cell_type": "markdown",
      "source": [
        "## LightGBM"
      ],
      "metadata": {
        "id": "yezqmg6EX610"
      }
    },
    {
      "cell_type": "code",
      "source": [
        "X_train, X_test, y_train, y_test = train_test_split(df_pca_concat.iloc[:,0:13], df_pca_concat.target, test_size=0.2, random_state=42)"
      ],
      "metadata": {
        "id": "AUj1bxmgIqBY"
      },
      "execution_count": 112,
      "outputs": []
    },
    {
      "cell_type": "code",
      "source": [
        "# Applying undersampling\n",
        "undersampler = RandomUnderSampler(random_state=42)\n",
        "X_resampled, y_resampled = undersampler.fit_resample(X_train, y_train)"
      ],
      "metadata": {
        "id": "oY4OU8lgL56n"
      },
      "execution_count": 123,
      "outputs": []
    },
    {
      "cell_type": "code",
      "source": [
        "# Creating a LightGBM dataset\n",
        "train_data = lgb.Dataset(X_resampled, label=y_resampled)"
      ],
      "metadata": {
        "id": "EIHnMg9GMJgZ"
      },
      "execution_count": 124,
      "outputs": []
    },
    {
      "cell_type": "code",
      "source": [
        "# Setting up parameters for LightGBM\n",
        "params = {\n",
        "    'objective': 'binary',\n",
        "    'metric': 'binary_error'  # You can change the metric as per your requirement\n",
        "}"
      ],
      "metadata": {
        "id": "6Olqz9bWMNGH"
      },
      "execution_count": 125,
      "outputs": []
    },
    {
      "cell_type": "code",
      "source": [
        "# Training the model\n",
        "num_round = 50\n",
        "bst = lgb.train(params, train_data, num_round)"
      ],
      "metadata": {
        "colab": {
          "base_uri": "https://localhost:8080/"
        },
        "id": "jf49IKfRMUcQ",
        "outputId": "465c332e-7dd1-4768-99d5-147db1eca246"
      },
      "execution_count": 167,
      "outputs": [
        {
          "output_type": "stream",
          "name": "stdout",
          "text": [
            "[LightGBM] [Info] Number of positive: 5545, number of negative: 5545\n",
            "[LightGBM] [Info] Auto-choosing col-wise multi-threading, the overhead of testing was 0.001494 seconds.\n",
            "You can set `force_col_wise=true` to remove the overhead.\n",
            "[LightGBM] [Info] Total Bins 3315\n",
            "[LightGBM] [Info] Number of data points in the train set: 11090, number of used features: 13\n",
            "[LightGBM] [Info] [binary:BoostFromScore]: pavg=0.500000 -> initscore=0.000000\n"
          ]
        }
      ]
    },
    {
      "cell_type": "code",
      "source": [
        "# Making predictions\n",
        "y_pred_lgbm = bst.predict(X_test, num_iteration=bst.best_iteration)"
      ],
      "metadata": {
        "id": "fCO4iTEDMU_M"
      },
      "execution_count": 168,
      "outputs": []
    },
    {
      "cell_type": "code",
      "source": [
        "# Converting probabilities to binary predictions\n",
        "y_pred_binary = [1 if pred > 0.5 else 0 for pred in y_pred_lgbm]"
      ],
      "metadata": {
        "id": "OjA_MU9HMWhB"
      },
      "execution_count": 169,
      "outputs": []
    },
    {
      "cell_type": "code",
      "source": [
        "print(\"Accuracy: \", accuracy_score(y_test, y_pred_binary))\n",
        "print(\"F1 score:\", f1_score(y_test, y_pred_binary))"
      ],
      "metadata": {
        "colab": {
          "base_uri": "https://localhost:8080/"
        },
        "id": "3ywypuLvMX1t",
        "outputId": "8b680e40-cb9c-41b6-c0c8-c8e163f920de"
      },
      "execution_count": 170,
      "outputs": [
        {
          "output_type": "stream",
          "name": "stdout",
          "text": [
            "Accuracy:  0.6569377243639769\n",
            "F1 score: 0.444949494949495\n"
          ]
        }
      ]
    },
    {
      "cell_type": "code",
      "source": [
        "from sklearn.metrics import confusion_matrix\n",
        "\n",
        "cm = confusion_matrix(y_test, y_pred_binary)\n",
        "\n",
        "TN, FP, FN, TP = confusion_matrix(y_test, y_pred_binary).ravel()\n",
        "\n",
        "print('True Positive(TP)  = ', TP)\n",
        "print('False Positive(FP) = ', FP)\n",
        "print('True Negative(TN)  = ', TN)\n",
        "print('False Negative(FN) = ', FN)"
      ],
      "metadata": {
        "colab": {
          "base_uri": "https://localhost:8080/"
        },
        "id": "lZuxlwWeNPPq",
        "outputId": "91bfbe78-d691-4683-d3e6-3a8c1b9c5b49"
      },
      "execution_count": 133,
      "outputs": [
        {
          "output_type": "stream",
          "name": "stdout",
          "text": [
            "True Positive(TP)  =  886\n",
            "False Positive(FP) =  1769\n",
            "True Negative(TN)  =  3289\n",
            "False Negative(FN) =  463\n"
          ]
        }
      ]
    },
    {
      "cell_type": "markdown",
      "source": [
        "## SGDClassifier"
      ],
      "metadata": {
        "id": "jCySMy6WX_Lk"
      }
    },
    {
      "cell_type": "code",
      "source": [
        "X_train, X_test, y_train, y_test = train_test_split(df_dropped[train_columns], df_dropped.target, test_size=0.2, random_state=42)"
      ],
      "metadata": {
        "id": "m12B2V0zOIH4"
      },
      "execution_count": 12,
      "outputs": []
    },
    {
      "cell_type": "code",
      "source": [
        "# Initializing the SGDClassifier\n",
        "# sgd_classifier = SGDClassifier(alpha=0.001, learning_rate='optimal', loss='hinge', max_iter=1000, penalty='l1', random_state=42)"
      ],
      "metadata": {
        "id": "vwlsevXHOwLn"
      },
      "execution_count": 203,
      "outputs": []
    },
    {
      "cell_type": "code",
      "source": [
        "# Training the classifier\n",
        "sgd_classifier.fit(X_train, y_train)"
      ],
      "metadata": {
        "colab": {
          "base_uri": "https://localhost:8080/",
          "height": 75
        },
        "id": "S4IrCXYvO-kj",
        "outputId": "92b8b6af-2983-4f86-cf6c-b5f095d38ae8"
      },
      "execution_count": 204,
      "outputs": [
        {
          "output_type": "execute_result",
          "data": {
            "text/plain": [
              "SGDClassifier(alpha=0.001, penalty='l1', random_state=42)"
            ],
            "text/html": [
              "<style>#sk-container-id-16 {color: black;background-color: white;}#sk-container-id-16 pre{padding: 0;}#sk-container-id-16 div.sk-toggleable {background-color: white;}#sk-container-id-16 label.sk-toggleable__label {cursor: pointer;display: block;width: 100%;margin-bottom: 0;padding: 0.3em;box-sizing: border-box;text-align: center;}#sk-container-id-16 label.sk-toggleable__label-arrow:before {content: \"▸\";float: left;margin-right: 0.25em;color: #696969;}#sk-container-id-16 label.sk-toggleable__label-arrow:hover:before {color: black;}#sk-container-id-16 div.sk-estimator:hover label.sk-toggleable__label-arrow:before {color: black;}#sk-container-id-16 div.sk-toggleable__content {max-height: 0;max-width: 0;overflow: hidden;text-align: left;background-color: #f0f8ff;}#sk-container-id-16 div.sk-toggleable__content pre {margin: 0.2em;color: black;border-radius: 0.25em;background-color: #f0f8ff;}#sk-container-id-16 input.sk-toggleable__control:checked~div.sk-toggleable__content {max-height: 200px;max-width: 100%;overflow: auto;}#sk-container-id-16 input.sk-toggleable__control:checked~label.sk-toggleable__label-arrow:before {content: \"▾\";}#sk-container-id-16 div.sk-estimator input.sk-toggleable__control:checked~label.sk-toggleable__label {background-color: #d4ebff;}#sk-container-id-16 div.sk-label input.sk-toggleable__control:checked~label.sk-toggleable__label {background-color: #d4ebff;}#sk-container-id-16 input.sk-hidden--visually {border: 0;clip: rect(1px 1px 1px 1px);clip: rect(1px, 1px, 1px, 1px);height: 1px;margin: -1px;overflow: hidden;padding: 0;position: absolute;width: 1px;}#sk-container-id-16 div.sk-estimator {font-family: monospace;background-color: #f0f8ff;border: 1px dotted black;border-radius: 0.25em;box-sizing: border-box;margin-bottom: 0.5em;}#sk-container-id-16 div.sk-estimator:hover {background-color: #d4ebff;}#sk-container-id-16 div.sk-parallel-item::after {content: \"\";width: 100%;border-bottom: 1px solid gray;flex-grow: 1;}#sk-container-id-16 div.sk-label:hover label.sk-toggleable__label {background-color: #d4ebff;}#sk-container-id-16 div.sk-serial::before {content: \"\";position: absolute;border-left: 1px solid gray;box-sizing: border-box;top: 0;bottom: 0;left: 50%;z-index: 0;}#sk-container-id-16 div.sk-serial {display: flex;flex-direction: column;align-items: center;background-color: white;padding-right: 0.2em;padding-left: 0.2em;position: relative;}#sk-container-id-16 div.sk-item {position: relative;z-index: 1;}#sk-container-id-16 div.sk-parallel {display: flex;align-items: stretch;justify-content: center;background-color: white;position: relative;}#sk-container-id-16 div.sk-item::before, #sk-container-id-16 div.sk-parallel-item::before {content: \"\";position: absolute;border-left: 1px solid gray;box-sizing: border-box;top: 0;bottom: 0;left: 50%;z-index: -1;}#sk-container-id-16 div.sk-parallel-item {display: flex;flex-direction: column;z-index: 1;position: relative;background-color: white;}#sk-container-id-16 div.sk-parallel-item:first-child::after {align-self: flex-end;width: 50%;}#sk-container-id-16 div.sk-parallel-item:last-child::after {align-self: flex-start;width: 50%;}#sk-container-id-16 div.sk-parallel-item:only-child::after {width: 0;}#sk-container-id-16 div.sk-dashed-wrapped {border: 1px dashed gray;margin: 0 0.4em 0.5em 0.4em;box-sizing: border-box;padding-bottom: 0.4em;background-color: white;}#sk-container-id-16 div.sk-label label {font-family: monospace;font-weight: bold;display: inline-block;line-height: 1.2em;}#sk-container-id-16 div.sk-label-container {text-align: center;}#sk-container-id-16 div.sk-container {/* jupyter's `normalize.less` sets `[hidden] { display: none; }` but bootstrap.min.css set `[hidden] { display: none !important; }` so we also need the `!important` here to be able to override the default hidden behavior on the sphinx rendered scikit-learn.org. See: https://github.com/scikit-learn/scikit-learn/issues/21755 */display: inline-block !important;position: relative;}#sk-container-id-16 div.sk-text-repr-fallback {display: none;}</style><div id=\"sk-container-id-16\" class=\"sk-top-container\"><div class=\"sk-text-repr-fallback\"><pre>SGDClassifier(alpha=0.001, penalty=&#x27;l1&#x27;, random_state=42)</pre><b>In a Jupyter environment, please rerun this cell to show the HTML representation or trust the notebook. <br />On GitHub, the HTML representation is unable to render, please try loading this page with nbviewer.org.</b></div><div class=\"sk-container\" hidden><div class=\"sk-item\"><div class=\"sk-estimator sk-toggleable\"><input class=\"sk-toggleable__control sk-hidden--visually\" id=\"sk-estimator-id-16\" type=\"checkbox\" checked><label for=\"sk-estimator-id-16\" class=\"sk-toggleable__label sk-toggleable__label-arrow\">SGDClassifier</label><div class=\"sk-toggleable__content\"><pre>SGDClassifier(alpha=0.001, penalty=&#x27;l1&#x27;, random_state=42)</pre></div></div></div></div></div>"
            ]
          },
          "metadata": {},
          "execution_count": 204
        }
      ]
    },
    {
      "cell_type": "code",
      "source": [
        "# Making predictions\n",
        "y_pred_sgd = sgd_classifier.predict(X_test)\n",
        "\n",
        "print(\"Accuracy: \", accuracy_score(y_test, y_pred_sgd))\n",
        "print(\"F1 score:\", f1_score(y_test, y_pred_sgd))"
      ],
      "metadata": {
        "colab": {
          "base_uri": "https://localhost:8080/"
        },
        "id": "25So4jL-PGSE",
        "outputId": "77d9a462-94dc-49ff-8ec3-2602bf2c6f7e"
      },
      "execution_count": 205,
      "outputs": [
        {
          "output_type": "stream",
          "name": "stdout",
          "text": [
            "Accuracy:  0.7493366630248166\n",
            "F1 score: 0.347684809098294\n"
          ]
        }
      ]
    },
    {
      "cell_type": "markdown",
      "source": [
        "# No PCA classes"
      ],
      "metadata": {
        "id": "Ez8A5M01SGdF"
      }
    },
    {
      "cell_type": "code",
      "source": [
        "df_dropped_all = df_dropped[train_columns]"
      ],
      "metadata": {
        "id": "HDHribdmSFs9"
      },
      "execution_count": 13,
      "outputs": []
    },
    {
      "cell_type": "code",
      "source": [
        "# Splitting the data into training and testing sets\n",
        "X_train, X_test, y_train, y_test = train_test_split(df_dropped_all, df_dropped.target, test_size=0.2, random_state=42)\n",
        "\n",
        "# Applying undersampling\n",
        "undersampler = RandomUnderSampler(random_state=42)\n",
        "X_resampled, y_resampled = undersampler.fit_resample(X_train, y_train)\n",
        "\n",
        "# Creating a LightGBM dataset\n",
        "train_data = lgb.Dataset(X_resampled, label=y_resampled)\n",
        "\n",
        "# Setting up parameters for LightGBM\n",
        "params = {\n",
        "    'objective': 'binary',\n",
        "    'metric': 'binary_error'  # You can change the metric as per your requirement\n",
        "}\n",
        "\n",
        "# Training the model\n",
        "num_round = 100\n",
        "bst = lgb.train(params, train_data, num_round)\n",
        "\n",
        "# Making predictions\n",
        "y_pred = bst.predict(X_test, num_iteration=bst.best_iteration)\n",
        "\n",
        "# Converting probabilities to binary predictions\n",
        "y_pred_binary = [1 if pred > 0.5 else 0 for pred in y_pred]\n",
        "\n",
        "# Calculating F1 score\n",
        "f1 = f1_score(y_test, y_pred_binary)\n",
        "print(\"F1 score:\", f1)"
      ],
      "metadata": {
        "colab": {
          "base_uri": "https://localhost:8080/"
        },
        "id": "sXzGiwn0S-bG",
        "outputId": "e547b3cb-1248-4b1f-c00a-21aa28624694"
      },
      "execution_count": 14,
      "outputs": [
        {
          "output_type": "stream",
          "name": "stdout",
          "text": [
            "[LightGBM] [Info] Number of positive: 5545, number of negative: 5545\n",
            "[LightGBM] [Info] Auto-choosing row-wise multi-threading, the overhead of testing was 0.010571 seconds.\n",
            "You can set `force_row_wise=true` to remove the overhead.\n",
            "And if memory is not enough, you can set `force_col_wise=true`.\n",
            "[LightGBM] [Info] Total Bins 2366\n",
            "[LightGBM] [Info] Number of data points in the train set: 11090, number of used features: 22\n",
            "[LightGBM] [Info] [binary:BoostFromScore]: pavg=0.500000 -> initscore=0.000000\n",
            "F1 score: 0.4863301787592009\n"
          ]
        }
      ]
    },
    {
      "cell_type": "code",
      "source": [
        "df_test['decision_date'] = pd.to_datetime(df_test['decision_date'])\n",
        "\n",
        "df_test['decision_month'] = df_test['decision_date'].dt.month"
      ],
      "metadata": {
        "id": "zaExOKvJqUpL"
      },
      "execution_count": 18,
      "outputs": []
    },
    {
      "cell_type": "code",
      "source": [
        "df_test[['late_payment_score', 'external_score_late_payment_integrated', 'external_score_moderate', 'external_score_adverse', 'external_score_ver03']] = df_test[['late_payment_score', 'external_score_late_payment_integrated', 'external_score_moderate', 'external_score_adverse', 'external_score_ver03']].fillna(df_test[['late_payment_score', 'external_score_late_payment_integrated', 'external_score_moderate', 'external_score_adverse', 'external_score_ver03']].median())"
      ],
      "metadata": {
        "id": "r1BhwAzXqii3"
      },
      "execution_count": 25,
      "outputs": []
    },
    {
      "cell_type": "code",
      "source": [
        "external_score_ver03_dictionary = {\n",
        "    \"MISSING\":None,\n",
        "    \"A\":14,\n",
        "    \"B\":13,\n",
        "    \"C\":12,\n",
        "    \"D\":11,\n",
        "    \"E\":10,\n",
        "    \"F\":9,\n",
        "    \"G\":8,\n",
        "    \"H\":7,\n",
        "    \"I\":6,\n",
        "    \"L\":5,\n",
        "    \"M\":4,\n",
        "    \"N\":3,\n",
        "    \"O\":2,\n",
        "    \"P\":1\n",
        "}"
      ],
      "metadata": {
        "id": "W2e1g8XQrNOA"
      },
      "execution_count": 23,
      "outputs": []
    },
    {
      "cell_type": "code",
      "source": [
        "df_test = df_test.replace({\"external_score_ver03\": external_score_ver03_dictionary})"
      ],
      "metadata": {
        "id": "r9bRIB3Mrilx"
      },
      "execution_count": null,
      "outputs": []
    },
    {
      "cell_type": "code",
      "source": [
        "# Making predictions\n",
        "y_test_pred = bst.predict(df_test[train_columns], num_iteration=bst.best_iteration)\n",
        "\n",
        "# Converting probabilities to binary predictions\n",
        "y_test_pred_binary = [1 if pred > 0.5 else 0 for pred in y_test_pred]"
      ],
      "metadata": {
        "id": "oPUXkQD9Vmub"
      },
      "execution_count": 27,
      "outputs": []
    },
    {
      "cell_type": "code",
      "source": [
        "submission = pd.DataFrame(y_test_pred_binary, columns=[\"label\"])"
      ],
      "metadata": {
        "id": "e2Iz0L2Yrv8r"
      },
      "execution_count": 31,
      "outputs": []
    },
    {
      "cell_type": "code",
      "source": [
        "submission.to_csv(\"file.csv\", index=False)"
      ],
      "metadata": {
        "id": "RE2SBQXzr9uh"
      },
      "execution_count": 32,
      "outputs": []
    }
  ]
}
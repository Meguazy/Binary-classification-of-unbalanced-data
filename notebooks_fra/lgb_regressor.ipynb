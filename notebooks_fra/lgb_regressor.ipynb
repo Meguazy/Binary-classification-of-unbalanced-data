{
  "nbformat": 4,
  "nbformat_minor": 0,
  "metadata": {
    "colab": {
      "provenance": [],
      "include_colab_link": true
    },
    "kernelspec": {
      "name": "python3",
      "display_name": "Python 3"
    },
    "language_info": {
      "name": "python"
    }
  },
  "cells": [
    {
      "cell_type": "markdown",
      "metadata": {
        "id": "view-in-github",
        "colab_type": "text"
      },
      "source": [
        "<a href=\"https://colab.research.google.com/github/Meguazy/HACK_4DS/blob/main/notebooks_fra/lgb_regressor.ipynb\" target=\"_parent\"><img src=\"https://colab.research.google.com/assets/colab-badge.svg\" alt=\"Open In Colab\"/></a>"
      ]
    },
    {
      "cell_type": "code",
      "execution_count": 1,
      "metadata": {
        "id": "qmD21Xwaismg",
        "colab": {
          "base_uri": "https://localhost:8080/"
        },
        "outputId": "cbd03f5a-8e73-457a-f79b-eb57a76abe03"
      },
      "outputs": [
        {
          "output_type": "stream",
          "name": "stdout",
          "text": [
            "fatal: destination path 'HACK_4DS' already exists and is not an empty directory.\n"
          ]
        }
      ],
      "source": [
        "!git clone https://github.com/Meguazy/HACK_4DS.git"
      ]
    },
    {
      "cell_type": "code",
      "source": [
        "!git pull"
      ],
      "metadata": {
        "colab": {
          "base_uri": "https://localhost:8080/"
        },
        "id": "t3IsSBfmCDzn",
        "outputId": "88cd30b0-4e01-4b2a-8804-8c6dd4063e2d"
      },
      "execution_count": 2,
      "outputs": [
        {
          "output_type": "stream",
          "name": "stdout",
          "text": [
            "fatal: not a git repository (or any of the parent directories): .git\n"
          ]
        }
      ]
    },
    {
      "cell_type": "code",
      "source": [
        "%cd /content/HACK_4DS"
      ],
      "metadata": {
        "colab": {
          "base_uri": "https://localhost:8080/"
        },
        "id": "v_R2sqZ4kkX2",
        "outputId": "0a2254ff-d7cd-4234-8a43-23c838c4baee"
      },
      "execution_count": 1,
      "outputs": [
        {
          "output_type": "stream",
          "name": "stdout",
          "text": [
            "/content/HACK_4DS\n"
          ]
        }
      ]
    },
    {
      "cell_type": "markdown",
      "source": [
        "# Initial"
      ],
      "metadata": {
        "id": "-Ha47nwWoTsz"
      }
    },
    {
      "cell_type": "code",
      "source": [
        "!pip install lightgbm imbalanced-learn"
      ],
      "metadata": {
        "colab": {
          "base_uri": "https://localhost:8080/"
        },
        "id": "EHTpD5nQLGP3",
        "outputId": "b82fb931-1122-4ee9-e216-ced64cd40211"
      },
      "execution_count": 2,
      "outputs": [
        {
          "output_type": "stream",
          "name": "stdout",
          "text": [
            "Requirement already satisfied: lightgbm in /usr/local/lib/python3.10/dist-packages (4.1.0)\n",
            "Requirement already satisfied: imbalanced-learn in /usr/local/lib/python3.10/dist-packages (0.10.1)\n",
            "Requirement already satisfied: numpy in /usr/local/lib/python3.10/dist-packages (from lightgbm) (1.25.2)\n",
            "Requirement already satisfied: scipy in /usr/local/lib/python3.10/dist-packages (from lightgbm) (1.11.4)\n",
            "Requirement already satisfied: scikit-learn>=1.0.2 in /usr/local/lib/python3.10/dist-packages (from imbalanced-learn) (1.2.2)\n",
            "Requirement already satisfied: joblib>=1.1.1 in /usr/local/lib/python3.10/dist-packages (from imbalanced-learn) (1.3.2)\n",
            "Requirement already satisfied: threadpoolctl>=2.0.0 in /usr/local/lib/python3.10/dist-packages (from imbalanced-learn) (3.3.0)\n"
          ]
        }
      ]
    },
    {
      "cell_type": "code",
      "source": [
        "import pandas as pd\n",
        "import numpy as np\n",
        "from sklearn.model_selection import train_test_split, GridSearchCV\n",
        "from sklearn.linear_model import SGDClassifier\n",
        "from sklearn.ensemble import HistGradientBoostingClassifier\n",
        "from sklearn.metrics import classification_report, f1_score\n",
        "import lightgbm as lgb\n",
        "from imblearn.under_sampling import RandomUnderSampler\n",
        "from imblearn.over_sampling import RandomOverSampler\n",
        "from sklearn.preprocessing import StandardScaler, MinMaxScaler\n",
        "from sklearn.preprocessing import LabelEncoder\n",
        "import xgboost as xgb"
      ],
      "metadata": {
        "id": "_iDiHJkQkVce"
      },
      "execution_count": 62,
      "outputs": []
    },
    {
      "cell_type": "markdown",
      "source": [
        "# Preprocessing"
      ],
      "metadata": {
        "id": "tgyeiRX7epi_"
      }
    },
    {
      "cell_type": "code",
      "source": [
        "df_train = pd.read_csv(\"data2/train_set.csv\", sep=\";\", quotechar=\"\\\"\", decimal=\",\")"
      ],
      "metadata": {
        "id": "FD8F2dIckg19"
      },
      "execution_count": 282,
      "outputs": []
    },
    {
      "cell_type": "code",
      "source": [
        "df_test = pd.read_csv(\"data2/test_set.csv\", sep=\";\", quotechar=\"\\\"\", decimal=\",\")"
      ],
      "metadata": {
        "id": "rqCRCcm2kwbj"
      },
      "execution_count": 283,
      "outputs": []
    },
    {
      "cell_type": "code",
      "source": [
        "external_score_ver03_dictionary = {\n",
        "    \"MISSING\":None,\n",
        "    \"A\":14,\n",
        "    \"B\":13,\n",
        "    \"C\":12,\n",
        "    \"D\":11,\n",
        "    \"E\":10,\n",
        "    \"F\":9,\n",
        "    \"G\":8,\n",
        "    \"H\":7,\n",
        "    \"I\":6,\n",
        "    \"L\":5,\n",
        "    \"M\":4,\n",
        "    \"N\":3,\n",
        "    \"O\":2,\n",
        "    \"P\":1\n",
        "}\n",
        "\n",
        "df_train = df_train.replace({\"external_score_ver03\": external_score_ver03_dictionary})\n",
        "df_test = df_test.replace({\"external_score_ver03\": external_score_ver03_dictionary})"
      ],
      "metadata": {
        "id": "NMttmmMtUojp"
      },
      "execution_count": 284,
      "outputs": []
    },
    {
      "cell_type": "code",
      "source": [
        "# Concatenate df_train and df_test\n",
        "df_combined = pd.concat([df_train, df_test], axis=0)\n",
        "\n",
        "# List of columns to encode\n",
        "columns_to_encode = ['province', 'juridical_form', 'industry_sector', 'region', 'geo_area', 'decision_date']\n",
        "\n",
        "# Instantiate LabelEncoder\n",
        "label_encoders = {}\n",
        "\n",
        "# Encode each column iteratively\n",
        "for column in columns_to_encode:\n",
        "    # Instantiate LabelEncoder for the current column\n",
        "    label_encoders[column] = LabelEncoder()\n",
        "\n",
        "    # Fit label encoder on combined data\n",
        "    label_encoders[column].fit(df_combined[column])\n",
        "\n",
        "    # Transform both training and testing data\n",
        "    df_train[column] = label_encoders[column].transform(df_train[column])\n",
        "    df_test[column] = label_encoders[column].transform(df_test[column])"
      ],
      "metadata": {
        "id": "_NkmKUtUYcWR"
      },
      "execution_count": 285,
      "outputs": []
    },
    {
      "cell_type": "code",
      "source": [
        "columns_to_drop = ['application_ID', 'target', 'late_payment_score', 'external_score_late_payment_integrated', 'external_score_moderate', 'external_score_adverse']\n",
        "\n",
        "# Drop the columns from the DataFrame\n",
        "df_train = df_train.drop(columns=columns_to_drop)\n",
        "df_train_no_target = df_train.drop(columns=['days_to_default'])\n",
        "\n",
        "df_test = df_test.drop(columns=['application_ID', 'late_payment_score', 'external_score_late_payment_integrated', 'external_score_moderate', 'external_score_adverse'])"
      ],
      "metadata": {
        "id": "ftdEJsT2VQYe"
      },
      "execution_count": 286,
      "outputs": []
    },
    {
      "cell_type": "markdown",
      "source": [
        "# Feature Engineering"
      ],
      "metadata": {
        "id": "aP3YozgToDmR"
      }
    },
    {
      "cell_type": "code",
      "source": [
        "# Splitting the data into training and testing sets\n",
        "X_train, X_test, y_train, y_test = train_test_split(df_train_no_target, df_train.days_to_default, test_size=0.2, random_state=42)"
      ],
      "metadata": {
        "id": "mhKEoMFZofFC"
      },
      "execution_count": 287,
      "outputs": []
    },
    {
      "cell_type": "code",
      "source": [
        "# Standardize Features\n",
        "\n",
        "# Use StandardScaler to scale the training and validation data\n",
        "scaler = StandardScaler()\n",
        "#Fit the StandardScaler to the training data\n",
        "scaler.fit(X_train)\n",
        "# transform both the training and validation data\n",
        "X_train = scaler.transform(X_train)\n",
        "X_test = scaler.transform(X_test)\n",
        "df_test = scaler.transform(df_test)"
      ],
      "metadata": {
        "id": "xvhz7ghUoHH1"
      },
      "execution_count": 288,
      "outputs": []
    },
    {
      "cell_type": "code",
      "source": [
        "X_test"
      ],
      "metadata": {
        "id": "ESp9fcrY6JrY",
        "outputId": "1af8cef6-f983-4ad0-dfdc-0c4ec4252590",
        "colab": {
          "base_uri": "https://localhost:8080/"
        }
      },
      "execution_count": 289,
      "outputs": [
        {
          "output_type": "execute_result",
          "data": {
            "text/plain": [
              "array([[ 0.48641614,  0.7614533 ,  0.69458735, ...,  0.95529891,\n",
              "         2.57105078,  3.06299297],\n",
              "       [ 0.54963871,  1.40932541, -0.44050406, ..., -0.47543632,\n",
              "        -0.1001505 ,  0.01608175],\n",
              "       [ 0.29147989, -1.13944533,  0.69458735, ..., -0.47543632,\n",
              "        -0.1001505 ,  0.01608175],\n",
              "       ...,\n",
              "       [ 1.46636594, -1.28485297,  0.12704165, ..., -0.47543632,\n",
              "         0.56764982,  0.77780955],\n",
              "       [-0.77276667,  0.13254037, -1.57559547, ...,  0.80061152,\n",
              "         1.90325046,  2.30126517],\n",
              "       [ 0.91843702,  1.45130423, -1.00804976, ..., -0.47543632,\n",
              "        -0.76795082, -0.74564606]])"
            ]
          },
          "metadata": {},
          "execution_count": 289
        }
      ]
    },
    {
      "cell_type": "code",
      "source": [
        "df_train.sort_index()"
      ],
      "metadata": {
        "id": "bupgBTxo6Oh8",
        "outputId": "f846dc7b-44d4-4bbb-af99-38a5cd5d2880",
        "colab": {
          "base_uri": "https://localhost:8080/",
          "height": 0
        }
      },
      "execution_count": 290,
      "outputs": [
        {
          "output_type": "execute_result",
          "data": {
            "text/plain": [
              "       decision_date    company_ID  external_score_ver01  \\\n",
              "0                714  7.256588e+09                    10   \n",
              "1                337  6.178307e+09                     7   \n",
              "2                155  7.692855e+09                     7   \n",
              "3                762  5.752242e+09                     8   \n",
              "4                639  7.533507e+09                     4   \n",
              "...              ...           ...                   ...   \n",
              "32027            464  4.270447e+09                     8   \n",
              "32028            512  7.809509e+09                     5   \n",
              "32029            604  3.093873e+09                     5   \n",
              "32030            900  5.879529e+09                     7   \n",
              "32031            525  6.881651e+09                     6   \n",
              "\n",
              "       external_score_ver02  external_score_ver03  age  province  \\\n",
              "0                         3                   NaN   15        94   \n",
              "1                         3                   7.0    5        19   \n",
              "2                         3                   NaN    5        44   \n",
              "3                         2                   NaN    6        79   \n",
              "4                         1                   NaN    5        63   \n",
              "...                     ...                   ...  ...       ...   \n",
              "32027                     1                  10.0    7       104   \n",
              "32028                     1                   5.0    5        47   \n",
              "32029                     1                  10.0    4        10   \n",
              "32030                     1                   9.0    6        55   \n",
              "32031                     1                  10.0    6       107   \n",
              "\n",
              "       juridical_form  industry_sector  gross_margin_ratio  ...  \\\n",
              "0                  13               16            0.464637  ...   \n",
              "1                   8                4            0.372340  ...   \n",
              "2                  13                5            0.270000  ...   \n",
              "3                  13               16            0.419929  ...   \n",
              "4                  13               16            0.526316  ...   \n",
              "...               ...              ...                 ...  ...   \n",
              "32027              13                6            0.248980  ...   \n",
              "32028              13                5           -0.006410  ...   \n",
              "32029              13               16            0.454158  ...   \n",
              "32030              13                7            0.427223  ...   \n",
              "32031               9               16            0.319728  ...   \n",
              "\n",
              "       last_rel_used_a_scadenza  avg_count_enti_affidanti  \\\n",
              "0                      0.172032                  1.000000   \n",
              "1                      0.146385                  1.000000   \n",
              "2                      0.000000                  1.000000   \n",
              "3                      0.050167                  1.000000   \n",
              "4                      0.000000                  0.000000   \n",
              "...                         ...                       ...   \n",
              "32027                  0.505934                  7.083333   \n",
              "32028                  0.003317                  4.583333   \n",
              "32029                  0.318381                  3.000000   \n",
              "32030                  0.114085                  5.333333   \n",
              "32031                  0.060729                  1.000000   \n",
              "\n",
              "       std_count_enti_affidanti  max_count_enti_affidanti  \\\n",
              "0                      0.000000                         1   \n",
              "1                      0.000000                         1   \n",
              "2                      0.000000                         1   \n",
              "3                      0.000000                         1   \n",
              "4                      0.000000                         0   \n",
              "...                         ...                       ...   \n",
              "32027                  1.311372                         8   \n",
              "32028                  0.900337                         6   \n",
              "32029                  0.000000                         3   \n",
              "32030                  0.492366                         6   \n",
              "32031                  0.000000                         1   \n",
              "\n",
              "       last_count_enti_affidanti  avg_count_numero_prima_info  \\\n",
              "0                              1                          0.0   \n",
              "1                              1                          2.0   \n",
              "2                              1                          1.0   \n",
              "3                              1                          0.5   \n",
              "4                              0                          0.0   \n",
              "...                          ...                          ...   \n",
              "32027                          7                          1.5   \n",
              "32028                          5                          4.0   \n",
              "32029                          3                          1.0   \n",
              "32030                          6                          0.0   \n",
              "32031                          1                          0.0   \n",
              "\n",
              "       std_count_numero_prima_info  max_count_numero_prima_info  \\\n",
              "0                         0.000000                            0   \n",
              "1                         0.000000                            2   \n",
              "2                         0.000000                            1   \n",
              "3                         0.522233                            1   \n",
              "4                         0.000000                            0   \n",
              "...                            ...                          ...   \n",
              "32027                     2.713602                            6   \n",
              "32028                     0.000000                            4   \n",
              "32029                     0.000000                            1   \n",
              "32030                     0.000000                            0   \n",
              "32031                     0.000000                            0   \n",
              "\n",
              "       last_count_numero_prima_info  days_to_default  \n",
              "0                                 0              522  \n",
              "1                                 2             1498  \n",
              "2                                 1              779  \n",
              "3                                 0             1498  \n",
              "4                                 0             1498  \n",
              "...                             ...              ...  \n",
              "32027                             0              894  \n",
              "32028                             4             1498  \n",
              "32029                             1             1498  \n",
              "32030                             0               87  \n",
              "32031                             0             1498  \n",
              "\n",
              "[32032 rows x 42 columns]"
            ],
            "text/html": [
              "\n",
              "  <div id=\"df-d760dcbc-e0bc-4de9-be16-4b7c37492530\" class=\"colab-df-container\">\n",
              "    <div>\n",
              "<style scoped>\n",
              "    .dataframe tbody tr th:only-of-type {\n",
              "        vertical-align: middle;\n",
              "    }\n",
              "\n",
              "    .dataframe tbody tr th {\n",
              "        vertical-align: top;\n",
              "    }\n",
              "\n",
              "    .dataframe thead th {\n",
              "        text-align: right;\n",
              "    }\n",
              "</style>\n",
              "<table border=\"1\" class=\"dataframe\">\n",
              "  <thead>\n",
              "    <tr style=\"text-align: right;\">\n",
              "      <th></th>\n",
              "      <th>decision_date</th>\n",
              "      <th>company_ID</th>\n",
              "      <th>external_score_ver01</th>\n",
              "      <th>external_score_ver02</th>\n",
              "      <th>external_score_ver03</th>\n",
              "      <th>age</th>\n",
              "      <th>province</th>\n",
              "      <th>juridical_form</th>\n",
              "      <th>industry_sector</th>\n",
              "      <th>gross_margin_ratio</th>\n",
              "      <th>...</th>\n",
              "      <th>last_rel_used_a_scadenza</th>\n",
              "      <th>avg_count_enti_affidanti</th>\n",
              "      <th>std_count_enti_affidanti</th>\n",
              "      <th>max_count_enti_affidanti</th>\n",
              "      <th>last_count_enti_affidanti</th>\n",
              "      <th>avg_count_numero_prima_info</th>\n",
              "      <th>std_count_numero_prima_info</th>\n",
              "      <th>max_count_numero_prima_info</th>\n",
              "      <th>last_count_numero_prima_info</th>\n",
              "      <th>days_to_default</th>\n",
              "    </tr>\n",
              "  </thead>\n",
              "  <tbody>\n",
              "    <tr>\n",
              "      <th>0</th>\n",
              "      <td>714</td>\n",
              "      <td>7.256588e+09</td>\n",
              "      <td>10</td>\n",
              "      <td>3</td>\n",
              "      <td>NaN</td>\n",
              "      <td>15</td>\n",
              "      <td>94</td>\n",
              "      <td>13</td>\n",
              "      <td>16</td>\n",
              "      <td>0.464637</td>\n",
              "      <td>...</td>\n",
              "      <td>0.172032</td>\n",
              "      <td>1.000000</td>\n",
              "      <td>0.000000</td>\n",
              "      <td>1</td>\n",
              "      <td>1</td>\n",
              "      <td>0.0</td>\n",
              "      <td>0.000000</td>\n",
              "      <td>0</td>\n",
              "      <td>0</td>\n",
              "      <td>522</td>\n",
              "    </tr>\n",
              "    <tr>\n",
              "      <th>1</th>\n",
              "      <td>337</td>\n",
              "      <td>6.178307e+09</td>\n",
              "      <td>7</td>\n",
              "      <td>3</td>\n",
              "      <td>7.0</td>\n",
              "      <td>5</td>\n",
              "      <td>19</td>\n",
              "      <td>8</td>\n",
              "      <td>4</td>\n",
              "      <td>0.372340</td>\n",
              "      <td>...</td>\n",
              "      <td>0.146385</td>\n",
              "      <td>1.000000</td>\n",
              "      <td>0.000000</td>\n",
              "      <td>1</td>\n",
              "      <td>1</td>\n",
              "      <td>2.0</td>\n",
              "      <td>0.000000</td>\n",
              "      <td>2</td>\n",
              "      <td>2</td>\n",
              "      <td>1498</td>\n",
              "    </tr>\n",
              "    <tr>\n",
              "      <th>2</th>\n",
              "      <td>155</td>\n",
              "      <td>7.692855e+09</td>\n",
              "      <td>7</td>\n",
              "      <td>3</td>\n",
              "      <td>NaN</td>\n",
              "      <td>5</td>\n",
              "      <td>44</td>\n",
              "      <td>13</td>\n",
              "      <td>5</td>\n",
              "      <td>0.270000</td>\n",
              "      <td>...</td>\n",
              "      <td>0.000000</td>\n",
              "      <td>1.000000</td>\n",
              "      <td>0.000000</td>\n",
              "      <td>1</td>\n",
              "      <td>1</td>\n",
              "      <td>1.0</td>\n",
              "      <td>0.000000</td>\n",
              "      <td>1</td>\n",
              "      <td>1</td>\n",
              "      <td>779</td>\n",
              "    </tr>\n",
              "    <tr>\n",
              "      <th>3</th>\n",
              "      <td>762</td>\n",
              "      <td>5.752242e+09</td>\n",
              "      <td>8</td>\n",
              "      <td>2</td>\n",
              "      <td>NaN</td>\n",
              "      <td>6</td>\n",
              "      <td>79</td>\n",
              "      <td>13</td>\n",
              "      <td>16</td>\n",
              "      <td>0.419929</td>\n",
              "      <td>...</td>\n",
              "      <td>0.050167</td>\n",
              "      <td>1.000000</td>\n",
              "      <td>0.000000</td>\n",
              "      <td>1</td>\n",
              "      <td>1</td>\n",
              "      <td>0.5</td>\n",
              "      <td>0.522233</td>\n",
              "      <td>1</td>\n",
              "      <td>0</td>\n",
              "      <td>1498</td>\n",
              "    </tr>\n",
              "    <tr>\n",
              "      <th>4</th>\n",
              "      <td>639</td>\n",
              "      <td>7.533507e+09</td>\n",
              "      <td>4</td>\n",
              "      <td>1</td>\n",
              "      <td>NaN</td>\n",
              "      <td>5</td>\n",
              "      <td>63</td>\n",
              "      <td>13</td>\n",
              "      <td>16</td>\n",
              "      <td>0.526316</td>\n",
              "      <td>...</td>\n",
              "      <td>0.000000</td>\n",
              "      <td>0.000000</td>\n",
              "      <td>0.000000</td>\n",
              "      <td>0</td>\n",
              "      <td>0</td>\n",
              "      <td>0.0</td>\n",
              "      <td>0.000000</td>\n",
              "      <td>0</td>\n",
              "      <td>0</td>\n",
              "      <td>1498</td>\n",
              "    </tr>\n",
              "    <tr>\n",
              "      <th>...</th>\n",
              "      <td>...</td>\n",
              "      <td>...</td>\n",
              "      <td>...</td>\n",
              "      <td>...</td>\n",
              "      <td>...</td>\n",
              "      <td>...</td>\n",
              "      <td>...</td>\n",
              "      <td>...</td>\n",
              "      <td>...</td>\n",
              "      <td>...</td>\n",
              "      <td>...</td>\n",
              "      <td>...</td>\n",
              "      <td>...</td>\n",
              "      <td>...</td>\n",
              "      <td>...</td>\n",
              "      <td>...</td>\n",
              "      <td>...</td>\n",
              "      <td>...</td>\n",
              "      <td>...</td>\n",
              "      <td>...</td>\n",
              "      <td>...</td>\n",
              "    </tr>\n",
              "    <tr>\n",
              "      <th>32027</th>\n",
              "      <td>464</td>\n",
              "      <td>4.270447e+09</td>\n",
              "      <td>8</td>\n",
              "      <td>1</td>\n",
              "      <td>10.0</td>\n",
              "      <td>7</td>\n",
              "      <td>104</td>\n",
              "      <td>13</td>\n",
              "      <td>6</td>\n",
              "      <td>0.248980</td>\n",
              "      <td>...</td>\n",
              "      <td>0.505934</td>\n",
              "      <td>7.083333</td>\n",
              "      <td>1.311372</td>\n",
              "      <td>8</td>\n",
              "      <td>7</td>\n",
              "      <td>1.5</td>\n",
              "      <td>2.713602</td>\n",
              "      <td>6</td>\n",
              "      <td>0</td>\n",
              "      <td>894</td>\n",
              "    </tr>\n",
              "    <tr>\n",
              "      <th>32028</th>\n",
              "      <td>512</td>\n",
              "      <td>7.809509e+09</td>\n",
              "      <td>5</td>\n",
              "      <td>1</td>\n",
              "      <td>5.0</td>\n",
              "      <td>5</td>\n",
              "      <td>47</td>\n",
              "      <td>13</td>\n",
              "      <td>5</td>\n",
              "      <td>-0.006410</td>\n",
              "      <td>...</td>\n",
              "      <td>0.003317</td>\n",
              "      <td>4.583333</td>\n",
              "      <td>0.900337</td>\n",
              "      <td>6</td>\n",
              "      <td>5</td>\n",
              "      <td>4.0</td>\n",
              "      <td>0.000000</td>\n",
              "      <td>4</td>\n",
              "      <td>4</td>\n",
              "      <td>1498</td>\n",
              "    </tr>\n",
              "    <tr>\n",
              "      <th>32029</th>\n",
              "      <td>604</td>\n",
              "      <td>3.093873e+09</td>\n",
              "      <td>5</td>\n",
              "      <td>1</td>\n",
              "      <td>10.0</td>\n",
              "      <td>4</td>\n",
              "      <td>10</td>\n",
              "      <td>13</td>\n",
              "      <td>16</td>\n",
              "      <td>0.454158</td>\n",
              "      <td>...</td>\n",
              "      <td>0.318381</td>\n",
              "      <td>3.000000</td>\n",
              "      <td>0.000000</td>\n",
              "      <td>3</td>\n",
              "      <td>3</td>\n",
              "      <td>1.0</td>\n",
              "      <td>0.000000</td>\n",
              "      <td>1</td>\n",
              "      <td>1</td>\n",
              "      <td>1498</td>\n",
              "    </tr>\n",
              "    <tr>\n",
              "      <th>32030</th>\n",
              "      <td>900</td>\n",
              "      <td>5.879529e+09</td>\n",
              "      <td>7</td>\n",
              "      <td>1</td>\n",
              "      <td>9.0</td>\n",
              "      <td>6</td>\n",
              "      <td>55</td>\n",
              "      <td>13</td>\n",
              "      <td>7</td>\n",
              "      <td>0.427223</td>\n",
              "      <td>...</td>\n",
              "      <td>0.114085</td>\n",
              "      <td>5.333333</td>\n",
              "      <td>0.492366</td>\n",
              "      <td>6</td>\n",
              "      <td>6</td>\n",
              "      <td>0.0</td>\n",
              "      <td>0.000000</td>\n",
              "      <td>0</td>\n",
              "      <td>0</td>\n",
              "      <td>87</td>\n",
              "    </tr>\n",
              "    <tr>\n",
              "      <th>32031</th>\n",
              "      <td>525</td>\n",
              "      <td>6.881651e+09</td>\n",
              "      <td>6</td>\n",
              "      <td>1</td>\n",
              "      <td>10.0</td>\n",
              "      <td>6</td>\n",
              "      <td>107</td>\n",
              "      <td>9</td>\n",
              "      <td>16</td>\n",
              "      <td>0.319728</td>\n",
              "      <td>...</td>\n",
              "      <td>0.060729</td>\n",
              "      <td>1.000000</td>\n",
              "      <td>0.000000</td>\n",
              "      <td>1</td>\n",
              "      <td>1</td>\n",
              "      <td>0.0</td>\n",
              "      <td>0.000000</td>\n",
              "      <td>0</td>\n",
              "      <td>0</td>\n",
              "      <td>1498</td>\n",
              "    </tr>\n",
              "  </tbody>\n",
              "</table>\n",
              "<p>32032 rows × 42 columns</p>\n",
              "</div>\n",
              "    <div class=\"colab-df-buttons\">\n",
              "\n",
              "  <div class=\"colab-df-container\">\n",
              "    <button class=\"colab-df-convert\" onclick=\"convertToInteractive('df-d760dcbc-e0bc-4de9-be16-4b7c37492530')\"\n",
              "            title=\"Convert this dataframe to an interactive table.\"\n",
              "            style=\"display:none;\">\n",
              "\n",
              "  <svg xmlns=\"http://www.w3.org/2000/svg\" height=\"24px\" viewBox=\"0 -960 960 960\">\n",
              "    <path d=\"M120-120v-720h720v720H120Zm60-500h600v-160H180v160Zm220 220h160v-160H400v160Zm0 220h160v-160H400v160ZM180-400h160v-160H180v160Zm440 0h160v-160H620v160ZM180-180h160v-160H180v160Zm440 0h160v-160H620v160Z\"/>\n",
              "  </svg>\n",
              "    </button>\n",
              "\n",
              "  <style>\n",
              "    .colab-df-container {\n",
              "      display:flex;\n",
              "      gap: 12px;\n",
              "    }\n",
              "\n",
              "    .colab-df-convert {\n",
              "      background-color: #E8F0FE;\n",
              "      border: none;\n",
              "      border-radius: 50%;\n",
              "      cursor: pointer;\n",
              "      display: none;\n",
              "      fill: #1967D2;\n",
              "      height: 32px;\n",
              "      padding: 0 0 0 0;\n",
              "      width: 32px;\n",
              "    }\n",
              "\n",
              "    .colab-df-convert:hover {\n",
              "      background-color: #E2EBFA;\n",
              "      box-shadow: 0px 1px 2px rgba(60, 64, 67, 0.3), 0px 1px 3px 1px rgba(60, 64, 67, 0.15);\n",
              "      fill: #174EA6;\n",
              "    }\n",
              "\n",
              "    .colab-df-buttons div {\n",
              "      margin-bottom: 4px;\n",
              "    }\n",
              "\n",
              "    [theme=dark] .colab-df-convert {\n",
              "      background-color: #3B4455;\n",
              "      fill: #D2E3FC;\n",
              "    }\n",
              "\n",
              "    [theme=dark] .colab-df-convert:hover {\n",
              "      background-color: #434B5C;\n",
              "      box-shadow: 0px 1px 3px 1px rgba(0, 0, 0, 0.15);\n",
              "      filter: drop-shadow(0px 1px 2px rgba(0, 0, 0, 0.3));\n",
              "      fill: #FFFFFF;\n",
              "    }\n",
              "  </style>\n",
              "\n",
              "    <script>\n",
              "      const buttonEl =\n",
              "        document.querySelector('#df-d760dcbc-e0bc-4de9-be16-4b7c37492530 button.colab-df-convert');\n",
              "      buttonEl.style.display =\n",
              "        google.colab.kernel.accessAllowed ? 'block' : 'none';\n",
              "\n",
              "      async function convertToInteractive(key) {\n",
              "        const element = document.querySelector('#df-d760dcbc-e0bc-4de9-be16-4b7c37492530');\n",
              "        const dataTable =\n",
              "          await google.colab.kernel.invokeFunction('convertToInteractive',\n",
              "                                                    [key], {});\n",
              "        if (!dataTable) return;\n",
              "\n",
              "        const docLinkHtml = 'Like what you see? Visit the ' +\n",
              "          '<a target=\"_blank\" href=https://colab.research.google.com/notebooks/data_table.ipynb>data table notebook</a>'\n",
              "          + ' to learn more about interactive tables.';\n",
              "        element.innerHTML = '';\n",
              "        dataTable['output_type'] = 'display_data';\n",
              "        await google.colab.output.renderOutput(dataTable, element);\n",
              "        const docLink = document.createElement('div');\n",
              "        docLink.innerHTML = docLinkHtml;\n",
              "        element.appendChild(docLink);\n",
              "      }\n",
              "    </script>\n",
              "  </div>\n",
              "\n",
              "\n",
              "<div id=\"df-b56465c9-7a07-4562-954e-1375b15ebc0f\">\n",
              "  <button class=\"colab-df-quickchart\" onclick=\"quickchart('df-b56465c9-7a07-4562-954e-1375b15ebc0f')\"\n",
              "            title=\"Suggest charts\"\n",
              "            style=\"display:none;\">\n",
              "\n",
              "<svg xmlns=\"http://www.w3.org/2000/svg\" height=\"24px\"viewBox=\"0 0 24 24\"\n",
              "     width=\"24px\">\n",
              "    <g>\n",
              "        <path d=\"M19 3H5c-1.1 0-2 .9-2 2v14c0 1.1.9 2 2 2h14c1.1 0 2-.9 2-2V5c0-1.1-.9-2-2-2zM9 17H7v-7h2v7zm4 0h-2V7h2v10zm4 0h-2v-4h2v4z\"/>\n",
              "    </g>\n",
              "</svg>\n",
              "  </button>\n",
              "\n",
              "<style>\n",
              "  .colab-df-quickchart {\n",
              "      --bg-color: #E8F0FE;\n",
              "      --fill-color: #1967D2;\n",
              "      --hover-bg-color: #E2EBFA;\n",
              "      --hover-fill-color: #174EA6;\n",
              "      --disabled-fill-color: #AAA;\n",
              "      --disabled-bg-color: #DDD;\n",
              "  }\n",
              "\n",
              "  [theme=dark] .colab-df-quickchart {\n",
              "      --bg-color: #3B4455;\n",
              "      --fill-color: #D2E3FC;\n",
              "      --hover-bg-color: #434B5C;\n",
              "      --hover-fill-color: #FFFFFF;\n",
              "      --disabled-bg-color: #3B4455;\n",
              "      --disabled-fill-color: #666;\n",
              "  }\n",
              "\n",
              "  .colab-df-quickchart {\n",
              "    background-color: var(--bg-color);\n",
              "    border: none;\n",
              "    border-radius: 50%;\n",
              "    cursor: pointer;\n",
              "    display: none;\n",
              "    fill: var(--fill-color);\n",
              "    height: 32px;\n",
              "    padding: 0;\n",
              "    width: 32px;\n",
              "  }\n",
              "\n",
              "  .colab-df-quickchart:hover {\n",
              "    background-color: var(--hover-bg-color);\n",
              "    box-shadow: 0 1px 2px rgba(60, 64, 67, 0.3), 0 1px 3px 1px rgba(60, 64, 67, 0.15);\n",
              "    fill: var(--button-hover-fill-color);\n",
              "  }\n",
              "\n",
              "  .colab-df-quickchart-complete:disabled,\n",
              "  .colab-df-quickchart-complete:disabled:hover {\n",
              "    background-color: var(--disabled-bg-color);\n",
              "    fill: var(--disabled-fill-color);\n",
              "    box-shadow: none;\n",
              "  }\n",
              "\n",
              "  .colab-df-spinner {\n",
              "    border: 2px solid var(--fill-color);\n",
              "    border-color: transparent;\n",
              "    border-bottom-color: var(--fill-color);\n",
              "    animation:\n",
              "      spin 1s steps(1) infinite;\n",
              "  }\n",
              "\n",
              "  @keyframes spin {\n",
              "    0% {\n",
              "      border-color: transparent;\n",
              "      border-bottom-color: var(--fill-color);\n",
              "      border-left-color: var(--fill-color);\n",
              "    }\n",
              "    20% {\n",
              "      border-color: transparent;\n",
              "      border-left-color: var(--fill-color);\n",
              "      border-top-color: var(--fill-color);\n",
              "    }\n",
              "    30% {\n",
              "      border-color: transparent;\n",
              "      border-left-color: var(--fill-color);\n",
              "      border-top-color: var(--fill-color);\n",
              "      border-right-color: var(--fill-color);\n",
              "    }\n",
              "    40% {\n",
              "      border-color: transparent;\n",
              "      border-right-color: var(--fill-color);\n",
              "      border-top-color: var(--fill-color);\n",
              "    }\n",
              "    60% {\n",
              "      border-color: transparent;\n",
              "      border-right-color: var(--fill-color);\n",
              "    }\n",
              "    80% {\n",
              "      border-color: transparent;\n",
              "      border-right-color: var(--fill-color);\n",
              "      border-bottom-color: var(--fill-color);\n",
              "    }\n",
              "    90% {\n",
              "      border-color: transparent;\n",
              "      border-bottom-color: var(--fill-color);\n",
              "    }\n",
              "  }\n",
              "</style>\n",
              "\n",
              "  <script>\n",
              "    async function quickchart(key) {\n",
              "      const quickchartButtonEl =\n",
              "        document.querySelector('#' + key + ' button');\n",
              "      quickchartButtonEl.disabled = true;  // To prevent multiple clicks.\n",
              "      quickchartButtonEl.classList.add('colab-df-spinner');\n",
              "      try {\n",
              "        const charts = await google.colab.kernel.invokeFunction(\n",
              "            'suggestCharts', [key], {});\n",
              "      } catch (error) {\n",
              "        console.error('Error during call to suggestCharts:', error);\n",
              "      }\n",
              "      quickchartButtonEl.classList.remove('colab-df-spinner');\n",
              "      quickchartButtonEl.classList.add('colab-df-quickchart-complete');\n",
              "    }\n",
              "    (() => {\n",
              "      let quickchartButtonEl =\n",
              "        document.querySelector('#df-b56465c9-7a07-4562-954e-1375b15ebc0f button');\n",
              "      quickchartButtonEl.style.display =\n",
              "        google.colab.kernel.accessAllowed ? 'block' : 'none';\n",
              "    })();\n",
              "  </script>\n",
              "</div>\n",
              "    </div>\n",
              "  </div>\n"
            ],
            "application/vnd.google.colaboratory.intrinsic+json": {
              "type": "dataframe"
            }
          },
          "metadata": {},
          "execution_count": 290
        }
      ]
    },
    {
      "cell_type": "markdown",
      "source": [
        "# Hyperparameter tuning"
      ],
      "metadata": {
        "id": "Ez8A5M01SGdF"
      }
    },
    {
      "cell_type": "code",
      "source": [
        "\n",
        "# Import necessary libraries for calculating mean squared error and using the LightGBM regressor.\n",
        "from sklearn.metrics import mean_absolute_error as mae\n",
        "from lightgbm import LGBMRegressor\n",
        "start = 0\n",
        "end = 100\n",
        "step = 1\n",
        "\n",
        "# Initialize an empty list to store the values\n",
        "values = []\n",
        "\n",
        "# Loop with decimal step\n",
        "value = start\n",
        "while value <= end:\n",
        "    value += step\n",
        "    model = LGBMRegressor(\n",
        "        objective='regression',\n",
        "        boosting_type='gbdt',\n",
        "        num_leaves=51,\n",
        "        learning_rate=0.18,\n",
        "        n_estimators=200,\n",
        "        feature_fraction=0.88,\n",
        "        bagging_fraction=0.8,\n",
        "        bagging_freq=value,\n",
        "        verbose=-1,\n",
        "    )\n",
        "    model.fit(X_train, y_train)\n",
        "\n",
        "    # Make predictions on the training and validation data.\n",
        "    y_train_pred = model.predict(X_train)\n",
        "    y_pred = model.predict(X_test)\n",
        "\n",
        "    # Calculate and print the Root Mean Absolute Error (MAE) for training and validation predictions.\n",
        "\n",
        "    print(value)\n",
        "    print(\"Training MAE: \", mae(y_train, y_train_pred))\n",
        "    print(\"Validation MAE: \", mae(y_test, y_pred))\n",
        "\n",
        "\n",
        "    values.append((value, mae(y_test, y_pred)))"
      ],
      "metadata": {
        "id": "sXzGiwn0S-bG"
      },
      "execution_count": null,
      "outputs": []
    },
    {
      "cell_type": "markdown",
      "source": [
        "# MODEL TRAINING"
      ],
      "metadata": {
        "id": "MOhBYAcyMqAE"
      }
    },
    {
      "cell_type": "code",
      "source": [
        "value += step\n",
        "model = LGBMRegressor(\n",
        "    objective='regression',\n",
        "    boosting_type='gbdt',\n",
        "    num_leaves=51,\n",
        "    learning_rate=0.18,\n",
        "    n_estimators=200,\n",
        "    feature_fraction=0.88,\n",
        "    bagging_fraction=0.8,\n",
        "    num_iterations=5000,\n",
        "    bagging_freq=5,\n",
        "    verbose=-1,\n",
        ")\n",
        "model.fit(X_train, y_train)\n",
        "\n",
        "# Make predictions on the training and validation data.\n",
        "y_train_pred = model.predict(X_train)\n",
        "y_pred = model.predict(X_test)\n",
        "\n",
        "# Calculate and print the Root Mean Absolute Error (MAE) for training and validation predictions.\n",
        "print(\"Training MAE: \", mae(y_train, y_train_pred))\n",
        "print(\"Validation MAE: \", mae(y_test, y_pred))"
      ],
      "metadata": {
        "id": "C_h_lVkcCb5i",
        "outputId": "280e83e5-35e4-4594-ca9d-52b7ce09afea",
        "colab": {
          "base_uri": "https://localhost:8080/"
        }
      },
      "execution_count": 291,
      "outputs": [
        {
          "output_type": "stream",
          "name": "stderr",
          "text": [
            "/usr/local/lib/python3.10/dist-packages/lightgbm/engine.py:172: UserWarning: Found `num_iterations` in params. Will use it instead of argument\n",
            "  _log_warning(f\"Found `{alias}` in params. Will use it instead of argument\")\n"
          ]
        },
        {
          "output_type": "stream",
          "name": "stdout",
          "text": [
            "Training MAE:  0.03201633718901852\n",
            "Validation MAE:  246.49853667410216\n"
          ]
        }
      ]
    },
    {
      "cell_type": "markdown",
      "source": [
        "# Submit solution"
      ],
      "metadata": {
        "id": "DEA6Y5Wz3IkF"
      }
    },
    {
      "cell_type": "code",
      "source": [
        "# Making predictions\n",
        "y_test_pred = model.predict(df_test)"
      ],
      "metadata": {
        "id": "oPUXkQD9Vmub"
      },
      "execution_count": 294,
      "outputs": []
    },
    {
      "cell_type": "code",
      "source": [
        "submission = pd.DataFrame(y_test_pred, columns=[\"label\"])"
      ],
      "metadata": {
        "id": "e2Iz0L2Yrv8r"
      },
      "execution_count": 295,
      "outputs": []
    },
    {
      "cell_type": "markdown",
      "source": [],
      "metadata": {
        "id": "3OjK86r2IlCU"
      }
    },
    {
      "cell_type": "code",
      "source": [
        "submission.to_csv(\"file.csv\", index=False, header=False)"
      ],
      "metadata": {
        "id": "RE2SBQXzr9uh"
      },
      "execution_count": 296,
      "outputs": []
    }
  ]
}